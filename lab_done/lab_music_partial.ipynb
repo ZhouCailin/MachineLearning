{
  "nbformat": 4,
  "nbformat_minor": 0,
  "metadata": {
    "anaconda-cloud": {},
    "kernelspec": {
      "display_name": "Python 3",
      "language": "python",
      "name": "python3"
    },
    "language_info": {
      "codemirror_mode": {
        "name": "ipython",
        "version": 3
      },
      "file_extension": ".py",
      "mimetype": "text/x-python",
      "name": "python",
      "nbconvert_exporter": "python",
      "pygments_lexer": "ipython3",
      "version": "3.8.5"
    },
    "colab": {
      "name": "“lab_music_partial.ipynb”的副本",
      "provenance": [],
      "collapsed_sections": [],
      "include_colab_link": true
    }
  },
  "cells": [
    {
      "cell_type": "markdown",
      "metadata": {
        "id": "view-in-github",
        "colab_type": "text"
      },
      "source": [
        "<a href=\"https://colab.research.google.com/github/ZhouCailin/MachineLearning/blob/master/lab_done/lab_music_partial.ipynb\" target=\"_parent\"><img src=\"https://colab.research.google.com/assets/colab-badge.svg\" alt=\"Open In Colab\"/></a>"
      ]
    },
    {
      "cell_type": "markdown",
      "metadata": {
        "id": "qONArKP7MPN4"
      },
      "source": [
        "# Lab:  Neural Networks for Music Classification\n",
        "\n",
        "In addition to the concepts in the [MNIST neural network demo](./demo2_mnist_neural.ipynb), in this lab, you will learn to:\n",
        "* Load a file from a URL\n",
        "* Extract simple features from audio samples for machine learning tasks such as speech recognition and classification\n",
        "* Build a simple neural network for music classification using these features\n",
        "* Use a callback to store the loss and accuracy history in the training process\n",
        "* Optimize the learning rate of the neural network\n",
        "\n",
        "To illustrate the basic concepts, we will look at a relatively simple music classification problem.  Given a sample of music, we want to determine which instrument (e.g. trumpet, violin, piano) is playing.  This dataset was generously supplied by [Prof. Juan Bello](http://steinhardt.nyu.edu/faculty/Juan_Pablo_Bello) at NYU Stenihardt  and his former PhD student Eric Humphrey (now at Spotify).  They have a complete website dedicated to deep learning methods in music informatics:\n",
        "\n",
        "http://marl.smusic.nyu.edu/wordpress/projects/feature-learning-deep-architectures/deep-learning-python-tutorial/\n",
        "\n",
        "You can also check out Juan's <a href=\"http://www.nyu.edu/classes/bello/ACA.html\">course</a>.\n",
        "\n"
      ]
    },
    {
      "cell_type": "markdown",
      "metadata": {
        "id": "aAznW_TUMPN7"
      },
      "source": [
        "## Loading Tensorflow\n",
        "\n",
        "Before starting this lab, you will need to install [Tensorflow](https://www.tensorflow.org/install/).  If you are using [Google colaboratory](https://colab.research.google.com), Tensorflow is already installed.  Run the following command to ensure Tensorflow is installed."
      ]
    },
    {
      "cell_type": "code",
      "metadata": {
        "id": "KBqbNatgMPN7"
      },
      "source": [
        "import tensorflow as tf"
      ],
      "execution_count": 1,
      "outputs": []
    },
    {
      "cell_type": "markdown",
      "metadata": {
        "id": "s-zsHz-FMPN8"
      },
      "source": [
        "Then, load the other packages."
      ]
    },
    {
      "cell_type": "code",
      "metadata": {
        "id": "iqGCHo9fMPN8"
      },
      "source": [
        "import numpy as np\n",
        "import matplotlib\n",
        "import matplotlib.pyplot as plt"
      ],
      "execution_count": 3,
      "outputs": []
    },
    {
      "cell_type": "markdown",
      "metadata": {
        "id": "uM5JPys6MPN9"
      },
      "source": [
        "## Audio Feature Extraction with Librosa\n",
        "\n",
        "The key to audio classification is to extract the correct features. In addition to `keras`, we will need the `librosa` package.  The `librosa` package in python has a rich set of methods extracting the features of audio samples commonly used in machine learning tasks such as speech recognition and sound classification. \n",
        "\n",
        "Installation instructions and complete documentation for the package are given on the [librosa main page](https://librosa.github.io/librosa/).  On most systems, you should be able to simply use:\n",
        "\n",
        "    pip install librosa\n",
        "    \n",
        "For Unix, you may need to load some additional packages:\n",
        "\n",
        "    sudo apt-get install build-essential\n",
        "    sudo apt-get install libxext-dev python-qt4 qt4-dev-tools\n",
        "    pip install librosa\n",
        "    \n",
        "After you have installed the package, try to import it."
      ]
    },
    {
      "cell_type": "code",
      "metadata": {
        "id": "Mis_TbIqMPN9"
      },
      "source": [
        "import librosa\n",
        "import librosa.display\n",
        "import librosa.feature"
      ],
      "execution_count": 2,
      "outputs": []
    },
    {
      "cell_type": "markdown",
      "metadata": {
        "id": "NjABW3SxMPN-"
      },
      "source": [
        "In this lab, we will use a set of music samples from the website:\n",
        "\n",
        "http://theremin.music.uiowa.edu\n",
        "\n",
        "This website has a great set of samples for audio processing.  Look on the web for how to use the `requests.get` and `file.write` commands to load the file at the URL provided into your working directory.\n",
        "\n",
        "You can play the audio sample by copying the file to your local machine and playing it on any media player.  If you listen to it you will hear a soprano saxaphone (with vibrato) playing four notes (C, C#, D, Eb)."
      ]
    },
    {
      "cell_type": "code",
      "metadata": {
        "id": "H3O-Bn87MPN-",
        "colab": {
          "base_uri": "https://localhost:8080/"
        },
        "outputId": "c3eadd0b-8958-4a9f-f024-901d64e77fc7"
      },
      "source": [
        "import requests\n",
        "fn = \"SopSax.Vib.pp.C6Eb6.aiff\"\n",
        "url = \"http://theremin.music.uiowa.edu/sound files/MIS/Woodwinds/sopranosaxophone/\"+fn\n",
        "\n",
        "# TODO 1:  Load the file from url and save it in a file under the name fn\n",
        "res = requests.get(url)\n",
        "f = open(fn,'wb')\n",
        "for chunk in res.iter_content(chunk_size=1):\n",
        "  if chunk:\n",
        "    f.write(chunk)\n",
        "f.close"
      ],
      "execution_count": 24,
      "outputs": [
        {
          "output_type": "execute_result",
          "data": {
            "text/plain": [
              "<function BufferedWriter.close>"
            ]
          },
          "metadata": {},
          "execution_count": 24
        }
      ]
    },
    {
      "cell_type": "markdown",
      "metadata": {
        "id": "gX3aygNQMPN_"
      },
      "source": [
        "Next, use `librosa` command `librosa.load` to read the audio file with filename `fn` and get the samples `y` and sample rate `sr`."
      ]
    },
    {
      "cell_type": "code",
      "metadata": {
        "id": "nUC_Jy1vMPOA"
      },
      "source": [
        "# TODO 2\n",
        "with open(fn,'rb') as f:\n",
        "  y, sr = librosa.load(f)"
      ],
      "execution_count": 26,
      "outputs": []
    },
    {
      "cell_type": "code",
      "metadata": {
        "colab": {
          "base_uri": "https://localhost:8080/"
        },
        "id": "tBv7hhGfiGHO",
        "outputId": "ef31e75c-c8d6-45e0-bd55-47afb880df2d"
      },
      "source": [
        "y.shape,sr"
      ],
      "execution_count": 32,
      "outputs": [
        {
          "output_type": "execute_result",
          "data": {
            "text/plain": [
              "((354291,), 22050)"
            ]
          },
          "metadata": {},
          "execution_count": 32
        }
      ]
    },
    {
      "cell_type": "markdown",
      "metadata": {
        "id": "ILWICOVwMPOA"
      },
      "source": [
        "Extracting features from audio files is an entire subject on its own right.  A commonly used set of features are called the Mel Frequency Cepstral Coefficients (MFCCs).  These are derived from the so-called mel spectrogram which is something like a regular spectrogram, but the power and frequency are represented in log scale, which more naturally aligns with human perceptual processing.  You can run the code below to display the mel spectrogram from the audio sample.\n",
        "\n",
        "You can easily see the four notes played in the audio track.  You also see the 'harmonics' of each notes, which are other tones at integer multiples of the fundamental frequency of each note."
      ]
    },
    {
      "cell_type": "code",
      "metadata": {
        "id": "0R1xr55eMPOA",
        "colab": {
          "base_uri": "https://localhost:8080/",
          "height": 296
        },
        "outputId": "20f6db4b-e971-42ce-f9ce-f39556093f33"
      },
      "source": [
        "S = librosa.feature.melspectrogram(y=y, sr=sr, n_mels=128, fmax=8000)\n",
        "librosa.display.specshow(librosa.amplitude_to_db(S),\n",
        "                         y_axis='mel', fmax=8000, x_axis='time')\n",
        "plt.colorbar(format='%+2.0f dB')\n",
        "plt.title('Mel spectrogram')\n",
        "plt.tight_layout()"
      ],
      "execution_count": 27,
      "outputs": [
        {
          "output_type": "display_data",
          "data": {
            "image/png": "[encoded data removed]",
            "text/plain": [
              "<Figure size 432x288 with 2 Axes>"
            ]
          },
          "metadata": {
            "needs_background": "light"
          }
        }
      ]
    },
    {
      "cell_type": "markdown",
      "metadata": {
        "id": "oW4uUaJ8MPOB"
      },
      "source": [
        "## Downloading the Data\n",
        "\n",
        "Using the MFCC features described above, Eric Humphrey and Juan Bellow have created a complete data set that can used for instrument classification.  Essentially, they collected a number of data files from the website above.  For each audio file, the segmented the track into notes and then extracted 120 MFCCs for each note.  The goal is to recognize the instrument from the 120 MFCCs.  The process of feature extraction is quite involved.  So, we will just use their processed data provided at:\n",
        "\n",
        "https://github.com/marl/dl4mir-tutorial/blob/master/README.md\n",
        "\n",
        "Note the password.  Load the four files into some directory, say  `instrument_dataset`.  Then, load them with the commands."
      ]
    },
    {
      "cell_type": "code",
      "metadata": {
        "id": "-iuyhQs1MPOB"
      },
      "source": [
        "data_dir = '/'\n",
        "Xtr = np.load(data_dir+'uiowa_train_data.npy')\n",
        "ytr = np.load(data_dir+'uiowa_train_labels.npy')\n",
        "Xts = np.load(data_dir+'uiowa_test_data.npy')\n",
        "yts = np.load(data_dir+'uiowa_test_labels.npy')"
      ],
      "execution_count": 48,
      "outputs": []
    },
    {
      "cell_type": "markdown",
      "metadata": {
        "id": "Ktgm_ZkuMPOB"
      },
      "source": [
        "Looking at the data files:\n",
        "* What are the number of training and test samples?\n",
        "* What is the number of features for each sample?\n",
        "* How many classes (i.e. instruments) are there per class?\n"
      ]
    },
    {
      "cell_type": "code",
      "metadata": {
        "id": "fYmB0pbnMPOB",
        "colab": {
          "base_uri": "https://localhost:8080/"
        },
        "outputId": "df3e5f75-aa79-4ee1-8f6d-a9e78244f39b"
      },
      "source": [
        "# TODO 3\n",
        "print(f\"Tranning samples size = {ytr.shape[0]}\\nTest samples zie = {yts.shape[0]}\")\n",
        "print(f\"Numb of features = {Xts.shape[1]}\")\n",
        "cla=np.unique(ytr)\n",
        "print(f\"Numb of classes {len(cla)}\")\n",
        "cla"
      ],
      "execution_count": 45,
      "outputs": [
        {
          "output_type": "stream",
          "name": "stdout",
          "text": [
            "Tranning samples size = 66247\n",
            "Test samples zie = 14904\n",
            "Numb of features = 120\n",
            "Numb of classes 10\n"
          ]
        },
        {
          "output_type": "execute_result",
          "data": {
            "text/plain": [
              "array([0, 1, 2, 3, 4, 5, 6, 7, 8, 9])"
            ]
          },
          "metadata": {},
          "execution_count": 45
        }
      ]
    },
    {
      "cell_type": "markdown",
      "metadata": {
        "id": "A3XnHPEjMPOB"
      },
      "source": [
        "Before continuing, you must scale the training and test data, `Xtr` and `Xts`.  Compute the mean and std deviation of each feature in `Xtr` and create a new training data set, `Xtr_scale`, by subtracting the mean and dividing by the std deviation.  Also compute a scaled test data set, `Xts_scale` using the mean and std deviation learned from the training data set."
      ]
    },
    {
      "cell_type": "code",
      "metadata": {
        "id": "Kn_Wk2STMPOC"
      },
      "source": [
        "# TODO 4: Scale the training and test matrices\n",
        "\n",
        "Xtr_scale = (Xtr-np.mean(Xtr,axis=0))/(np.std(Xtr,axis=0))\n",
        "Xts_scale = (Xts-np.mean(Xtr,axis=0))/(np.std(Xtr,axis=0))"
      ],
      "execution_count": 78,
      "outputs": []
    },
    {
      "cell_type": "markdown",
      "metadata": {
        "collapsed": true,
        "id": "jedCih1IMPOC"
      },
      "source": [
        "## Building a Neural Network Classifier\n",
        "\n",
        "Following the example in [MNIST neural network demo](./mnist_neural.ipynb), clear the keras session.  Then, create a neural network `model` with:\n",
        "* `nh=256` hidden units\n",
        "* `sigmoid` activation\n",
        "* select the input and output shapes correctly\n",
        "* print the model summary"
      ]
    },
    {
      "cell_type": "code",
      "metadata": {
        "id": "MUxe5q81MPOC"
      },
      "source": [
        "from tensorflow.keras.models import Model, Sequential\n",
        "from tensorflow.keras.layers import Dense, Activation\n",
        "import tensorflow.keras.backend as K\n"
      ],
      "execution_count": 56,
      "outputs": []
    },
    {
      "cell_type": "code",
      "metadata": {
        "id": "mbowT7lgMPOC"
      },
      "source": [
        "# TODO 5 clear session\n",
        "K.clear_session()"
      ],
      "execution_count": 87,
      "outputs": []
    },
    {
      "cell_type": "code",
      "metadata": {
        "id": "n2j9ocGVMPOC"
      },
      "source": [
        "# TODO 6: construct the model\n",
        "nin = Xtr.shape[1]  # dimension of input data\n",
        "nh = 256     # number of hidden units\n",
        "nout = int(np.max(ytr)+1)    # number of outputs = 10 since there are 10 classes\n",
        "model = Sequential()\n",
        "model.add(Dense(units=nh, input_shape=(nin,), activation='sigmoid', name='hidden'))\n",
        "model.add(Dense(units=nout, activation='softmax', name='output'))"
      ],
      "execution_count": 88,
      "outputs": []
    },
    {
      "cell_type": "code",
      "metadata": {
        "id": "ffXYWc8vMPOD",
        "colab": {
          "base_uri": "https://localhost:8080/"
        },
        "outputId": "d7d30fe4-edab-4707-dce5-7faf2b1d5e58"
      },
      "source": [
        "# TODO 7:  Print the model summary\n",
        "model.summary()"
      ],
      "execution_count": 89,
      "outputs": [
        {
          "output_type": "stream",
          "name": "stdout",
          "text": [
            "Model: \"sequential\"\n",
            "_________________________________________________________________\n",
            " Layer (type)                Output Shape              Param #   \n",
            "=================================================================\n",
            " hidden (Dense)              (None, 256)               30976     \n",
            "                                                                 \n",
            " output (Dense)              (None, 10)                2570      \n",
            "                                                                 \n",
            "=================================================================\n",
            "Total params: 33,546\n",
            "Trainable params: 33,546\n",
            "Non-trainable params: 0\n",
            "_________________________________________________________________\n"
          ]
        }
      ]
    },
    {
      "cell_type": "markdown",
      "metadata": {
        "id": "ikv2Id7XMPOD"
      },
      "source": [
        "Create an optimizer and compile the model.  Select the appropriate loss function and metrics.  For the optimizer, use the Adam optimizer with a learning rate of 0.001"
      ]
    },
    {
      "cell_type": "code",
      "metadata": {
        "scrolled": true,
        "id": "e9maSYyCMPOD"
      },
      "source": [
        "# TODO 8\n",
        "from tensorflow.keras import optimizers\n",
        "opt = optimizers.Adam(learning_rate=0.001)\n",
        "model.compile(optimizer=opt,\n",
        "              loss='sparse_categorical_crossentropy',\n",
        "              metrics=['accuracy'])"
      ],
      "execution_count": 90,
      "outputs": []
    },
    {
      "cell_type": "markdown",
      "metadata": {
        "id": "ATV67tEVMPOD"
      },
      "source": [
        "Fit the model for 10 epochs using the scaled data for both the training and validation.  Use the `validation_data` option to pass the test data.  Also, pass the callback class create above.  Use a batch size of 100.  Your final accuracy should be >99%."
      ]
    },
    {
      "cell_type": "code",
      "metadata": {
        "scrolled": true,
        "id": "zyHDBnUOMPOD",
        "colab": {
          "base_uri": "https://localhost:8080/"
        },
        "outputId": "389777bd-4d8a-4c50-da33-929382ead5a3"
      },
      "source": [
        "# TODO 9\n",
        "hist = model.fit(Xtr_scale, ytr, epochs=10, batch_size=100, validation_data=(Xts_scale,yts))"
      ],
      "execution_count": 91,
      "outputs": [
        {
          "output_type": "stream",
          "name": "stdout",
          "text": [
            "Epoch 1/10\n",
            "663/663 [==============================] - 3s 4ms/step - loss: 0.3649 - accuracy: 0.9016 - val_loss: 0.1986 - val_accuracy: 0.9419\n",
            "Epoch 2/10\n",
            "663/663 [==============================] - 2s 4ms/step - loss: 0.1053 - accuracy: 0.9742 - val_loss: 0.1207 - val_accuracy: 0.9574\n",
            "Epoch 3/10\n",
            "663/663 [==============================] - 2s 4ms/step - loss: 0.0618 - accuracy: 0.9851 - val_loss: 0.0621 - val_accuracy: 0.9850\n",
            "Epoch 4/10\n",
            "663/663 [==============================] - 2s 4ms/step - loss: 0.0433 - accuracy: 0.9895 - val_loss: 0.0472 - val_accuracy: 0.9883\n",
            "Epoch 5/10\n",
            "663/663 [==============================] - 2s 3ms/step - loss: 0.0330 - accuracy: 0.9916 - val_loss: 0.0406 - val_accuracy: 0.9892\n",
            "Epoch 6/10\n",
            "663/663 [==============================] - 2s 3ms/step - loss: 0.0260 - accuracy: 0.9929 - val_loss: 0.0385 - val_accuracy: 0.9897\n",
            "Epoch 7/10\n",
            "663/663 [==============================] - 2s 3ms/step - loss: 0.0212 - accuracy: 0.9946 - val_loss: 0.0327 - val_accuracy: 0.9910\n",
            "Epoch 8/10\n",
            "663/663 [==============================] - 2s 3ms/step - loss: 0.0179 - accuracy: 0.9954 - val_loss: 0.0298 - val_accuracy: 0.9907\n",
            "Epoch 9/10\n",
            "663/663 [==============================] - 2s 3ms/step - loss: 0.0152 - accuracy: 0.9962 - val_loss: 0.0267 - val_accuracy: 0.9912\n",
            "Epoch 10/10\n",
            "663/663 [==============================] - 2s 3ms/step - loss: 0.0130 - accuracy: 0.9966 - val_loss: 0.0276 - val_accuracy: 0.9907\n"
          ]
        }
      ]
    },
    {
      "cell_type": "markdown",
      "metadata": {
        "id": "HvW6NsXNMPOD"
      },
      "source": [
        "Plot the validation accuracy saved in `hist.history` dictionary. This gives one accuracy value per epoch.  You should see that the validation accuracy saturates at a little higher than 99%.  After that it \"bounces around\" due to the noise in the stochastic gradient descent."
      ]
    },
    {
      "cell_type": "code",
      "metadata": {
        "id": "MhiCJLYeMPOD",
        "colab": {
          "base_uri": "https://localhost:8080/",
          "height": 296
        },
        "outputId": "b3fd7726-5930-4d55-a802-3df0e7fb27c1"
      },
      "source": [
        "# TODO 10\n",
        "tr_accuracy = hist.history['accuracy']\n",
        "val_accuracy = hist.history['val_accuracy']\n",
        "\n",
        "plt.plot(tr_accuracy)\n",
        "plt.plot(val_accuracy)\n",
        "plt.grid()\n",
        "plt.xlabel('epochs')\n",
        "plt.ylabel('accuarcy')\n",
        "plt.legend(['training accuracy', 'validation accuracy'])\n"
      ],
      "execution_count": 92,
      "outputs": [
        {
          "output_type": "execute_result",
          "data": {
            "text/plain": [
              "<matplotlib.legend.Legend at 0x7f91f3fbe610>"
            ]
          },
          "metadata": {},
          "execution_count": 92
        },
        {
          "output_type": "display_data",
          "data": {
            "image/png": "[encoded data removed]",
            "text/plain": [
              "<Figure size 432x288 with 1 Axes>"
            ]
          },
          "metadata": {
            "needs_background": "light"
          }
        }
      ]
    },
    {
      "cell_type": "markdown",
      "metadata": {
        "id": "Jq54U0VUMPOD"
      },
      "source": [
        "Plot the loss values saved in the `hist.history` dictionary.  You should see that the loss is steadily decreasing.  Use the `semilogy` plot."
      ]
    },
    {
      "cell_type": "code",
      "metadata": {
        "id": "OBLEWpWQMPOE",
        "colab": {
          "base_uri": "https://localhost:8080/",
          "height": 295
        },
        "outputId": "f7484667-5974-4f74-c1cc-383d52308e60"
      },
      "source": [
        "# TODO 11\n",
        "loss = hist.history['loss']\n",
        "val_loss = hist.history['val_loss']\n",
        "\n",
        "plt.plot(loss)\n",
        "plt.plot(val_loss)\n",
        "plt.grid()\n",
        "plt.xlabel('epochs')\n",
        "plt.ylabel('loss')\n",
        "plt.legend(['loss', 'validation loss'])"
      ],
      "execution_count": 95,
      "outputs": [
        {
          "output_type": "execute_result",
          "data": {
            "text/plain": [
              "<matplotlib.legend.Legend at 0x7f91f403be50>"
            ]
          },
          "metadata": {},
          "execution_count": 95
        },
        {
          "output_type": "display_data",
          "data": {
            "image/png": "[encoded data removed]",
            "text/plain": [
              "<Figure size 432x288 with 1 Axes>"
            ]
          },
          "metadata": {
            "needs_background": "light"
          }
        }
      ]
    },
    {
      "cell_type": "markdown",
      "metadata": {
        "id": "MoQIIa1YMPOE"
      },
      "source": [
        "## Optimizing the Learning Rate\n",
        "\n",
        "One challenge in training neural networks is the selection of the learning rate.  Rerun the above code, trying four learning rates as shown in the vector `rates`.  For each learning rate:\n",
        "* clear the session\n",
        "* construct the network\n",
        "* select the optimizer.  Use the Adam optimizer with the appropriate learrning rate.\n",
        "* train the model for 20 epochs\n",
        "* save the accuracy and losses"
      ]
    },
    {
      "cell_type": "code",
      "metadata": {
        "id": "TvjqQYvoMPOE",
        "colab": {
          "base_uri": "https://localhost:8080/"
        },
        "outputId": "8640ae0b-6f60-4664-a777-45402392fd48"
      },
      "source": [
        "rates = [0.01,0.001,0.0001]\n",
        "batch_size = 100\n",
        "loss_hist = []\n",
        "val_loss_hist = []\n",
        "acc_hist = []\n",
        "val_acc_hist = []\n",
        "\n",
        "\n",
        "# TODO 12\n",
        "for lr in rates:\n",
        "  K.clear_session()\n",
        "  model = Sequential()\n",
        "  model.add(Dense(units=nh, input_shape=(nin,), activation='sigmoid', name='hidden'))\n",
        "  model.add(Dense(units=nout, activation='softmax', name='output'))\n",
        "\n",
        "  opt = optimizers.Adam(learning_rate=lr)\n",
        "  model.compile(optimizer=opt,\n",
        "              loss='sparse_categorical_crossentropy',\n",
        "              metrics=['accuracy'])\n",
        "  hist = model.fit(Xtr_scale, ytr, epochs=20, batch_size=100, validation_data=(Xts_scale,yts))\n",
        "  loss_hist.append(hist.history['loss'])\n",
        "  val_loss_hist.append(hist.history['val_loss'])\n",
        "  acc_hist.append(hist.history['accuracy'])\n",
        "  val_acc_hist.append(hist.history['val_accuracy'])\n"
      ],
      "execution_count": 98,
      "outputs": [
        {
          "output_type": "stream",
          "name": "stdout",
          "text": [
            "Epoch 1/20\n",
            "663/663 [==============================] - 3s 4ms/step - loss: 0.1087 - accuracy: 0.9661 - val_loss: 0.0399 - val_accuracy: 0.9861\n",
            "Epoch 2/20\n",
            "663/663 [==============================] - 2s 4ms/step - loss: 0.0319 - accuracy: 0.9894 - val_loss: 0.0379 - val_accuracy: 0.9870\n",
            "Epoch 3/20\n",
            "663/663 [==============================] - 2s 3ms/step - loss: 0.0214 - accuracy: 0.9929 - val_loss: 0.0356 - val_accuracy: 0.9883\n",
            "Epoch 4/20\n",
            "663/663 [==============================] - 2s 4ms/step - loss: 0.0168 - accuracy: 0.9945 - val_loss: 0.0958 - val_accuracy: 0.9685\n",
            "Epoch 5/20\n",
            "663/663 [==============================] - 2s 4ms/step - loss: 0.0155 - accuracy: 0.9949 - val_loss: 0.0300 - val_accuracy: 0.9906\n",
            "Epoch 6/20\n",
            "663/663 [==============================] - 2s 4ms/step - loss: 0.0136 - accuracy: 0.9956 - val_loss: 0.0228 - val_accuracy: 0.9911\n",
            "Epoch 7/20\n",
            "663/663 [==============================] - 2s 4ms/step - loss: 0.0172 - accuracy: 0.9946 - val_loss: 0.0841 - val_accuracy: 0.9735\n",
            "Epoch 8/20\n",
            "663/663 [==============================] - 2s 4ms/step - loss: 0.0123 - accuracy: 0.9962 - val_loss: 0.0521 - val_accuracy: 0.9850\n",
            "Epoch 9/20\n",
            "663/663 [==============================] - 2s 4ms/step - loss: 0.0160 - accuracy: 0.9952 - val_loss: 0.0224 - val_accuracy: 0.9926\n",
            "Epoch 10/20\n",
            "663/663 [==============================] - 2s 4ms/step - loss: 0.0103 - accuracy: 0.9971 - val_loss: 0.0893 - val_accuracy: 0.9805\n",
            "Epoch 11/20\n",
            "663/663 [==============================] - 2s 4ms/step - loss: 0.0085 - accuracy: 0.9972 - val_loss: 0.0459 - val_accuracy: 0.9894\n",
            "Epoch 12/20\n",
            "663/663 [==============================] - 3s 4ms/step - loss: 0.0113 - accuracy: 0.9966 - val_loss: 0.0543 - val_accuracy: 0.9884\n",
            "Epoch 13/20\n",
            "663/663 [==============================] - 2s 4ms/step - loss: 0.0134 - accuracy: 0.9962 - val_loss: 0.0750 - val_accuracy: 0.9834\n",
            "Epoch 14/20\n",
            "663/663 [==============================] - 3s 4ms/step - loss: 0.0084 - accuracy: 0.9971 - val_loss: 0.1247 - val_accuracy: 0.9742\n",
            "Epoch 15/20\n",
            "663/663 [==============================] - 2s 3ms/step - loss: 0.0082 - accuracy: 0.9976 - val_loss: 0.0806 - val_accuracy: 0.9813\n",
            "Epoch 16/20\n",
            "663/663 [==============================] - 2s 4ms/step - loss: 0.0106 - accuracy: 0.9970 - val_loss: 0.0392 - val_accuracy: 0.9901\n",
            "Epoch 17/20\n",
            "663/663 [==============================] - 2s 3ms/step - loss: 0.0106 - accuracy: 0.9968 - val_loss: 0.0765 - val_accuracy: 0.9846\n",
            "Epoch 18/20\n",
            "663/663 [==============================] - 2s 3ms/step - loss: 0.0101 - accuracy: 0.9971 - val_loss: 0.0542 - val_accuracy: 0.9885\n",
            "Epoch 19/20\n",
            "663/663 [==============================] - 2s 3ms/step - loss: 0.0117 - accuracy: 0.9967 - val_loss: 0.0439 - val_accuracy: 0.9885\n",
            "Epoch 20/20\n",
            "663/663 [==============================] - 2s 3ms/step - loss: 0.0061 - accuracy: 0.9981 - val_loss: 0.0778 - val_accuracy: 0.9844\n",
            "Epoch 1/20\n",
            "663/663 [==============================] - 3s 4ms/step - loss: 0.3666 - accuracy: 0.8987 - val_loss: 0.1921 - val_accuracy: 0.9479\n",
            "Epoch 2/20\n",
            "663/663 [==============================] - 2s 4ms/step - loss: 0.1037 - accuracy: 0.9748 - val_loss: 0.0887 - val_accuracy: 0.9789\n",
            "Epoch 3/20\n",
            "663/663 [==============================] - 2s 4ms/step - loss: 0.0605 - accuracy: 0.9853 - val_loss: 0.0667 - val_accuracy: 0.9839\n",
            "Epoch 4/20\n",
            "663/663 [==============================] - 2s 4ms/step - loss: 0.0421 - accuracy: 0.9896 - val_loss: 0.0491 - val_accuracy: 0.9867\n",
            "Epoch 5/20\n",
            "663/663 [==============================] - 2s 3ms/step - loss: 0.0318 - accuracy: 0.9920 - val_loss: 0.0411 - val_accuracy: 0.9873\n",
            "Epoch 6/20\n",
            "663/663 [==============================] - 2s 4ms/step - loss: 0.0250 - accuracy: 0.9936 - val_loss: 0.0355 - val_accuracy: 0.9914\n",
            "Epoch 7/20\n",
            "663/663 [==============================] - 2s 4ms/step - loss: 0.0205 - accuracy: 0.9947 - val_loss: 0.0277 - val_accuracy: 0.9926\n",
            "Epoch 8/20\n",
            "663/663 [==============================] - 2s 4ms/step - loss: 0.0173 - accuracy: 0.9954 - val_loss: 0.0292 - val_accuracy: 0.9899\n",
            "Epoch 9/20\n",
            "663/663 [==============================] - 2s 3ms/step - loss: 0.0146 - accuracy: 0.9963 - val_loss: 0.0270 - val_accuracy: 0.9923\n",
            "Epoch 10/20\n",
            "663/663 [==============================] - 2s 3ms/step - loss: 0.0124 - accuracy: 0.9968 - val_loss: 0.0248 - val_accuracy: 0.9919\n",
            "Epoch 11/20\n",
            "663/663 [==============================] - 2s 3ms/step - loss: 0.0109 - accuracy: 0.9973 - val_loss: 0.0240 - val_accuracy: 0.9911\n",
            "Epoch 12/20\n",
            "663/663 [==============================] - 2s 3ms/step - loss: 0.0103 - accuracy: 0.9974 - val_loss: 0.0223 - val_accuracy: 0.9920\n",
            "Epoch 13/20\n",
            "663/663 [==============================] - 2s 4ms/step - loss: 0.0088 - accuracy: 0.9977 - val_loss: 0.0215 - val_accuracy: 0.9920\n",
            "Epoch 14/20\n",
            "663/663 [==============================] - 2s 4ms/step - loss: 0.0082 - accuracy: 0.9978 - val_loss: 0.0197 - val_accuracy: 0.9924\n",
            "Epoch 15/20\n",
            "663/663 [==============================] - 2s 4ms/step - loss: 0.0078 - accuracy: 0.9980 - val_loss: 0.0224 - val_accuracy: 0.9919\n",
            "Epoch 16/20\n",
            "663/663 [==============================] - 2s 4ms/step - loss: 0.0068 - accuracy: 0.9981 - val_loss: 0.0249 - val_accuracy: 0.9908\n",
            "Epoch 17/20\n",
            "663/663 [==============================] - 2s 4ms/step - loss: 0.0061 - accuracy: 0.9984 - val_loss: 0.0260 - val_accuracy: 0.9903\n",
            "Epoch 18/20\n",
            "663/663 [==============================] - 2s 3ms/step - loss: 0.0057 - accuracy: 0.9984 - val_loss: 0.0229 - val_accuracy: 0.9917\n",
            "Epoch 19/20\n",
            "663/663 [==============================] - 2s 3ms/step - loss: 0.0055 - accuracy: 0.9985 - val_loss: 0.0216 - val_accuracy: 0.9926\n",
            "Epoch 20/20\n",
            "663/663 [==============================] - 2s 4ms/step - loss: 0.0050 - accuracy: 0.9986 - val_loss: 0.0328 - val_accuracy: 0.9885\n",
            "Epoch 1/20\n",
            "663/663 [==============================] - 3s 4ms/step - loss: 1.1297 - accuracy: 0.6529 - val_loss: 0.8426 - val_accuracy: 0.6879\n",
            "Epoch 2/20\n",
            "663/663 [==============================] - 2s 3ms/step - loss: 0.5532 - accuracy: 0.8503 - val_loss: 0.5682 - val_accuracy: 0.8362\n",
            "Epoch 3/20\n",
            "663/663 [==============================] - 2s 3ms/step - loss: 0.3843 - accuracy: 0.9117 - val_loss: 0.4434 - val_accuracy: 0.8727\n",
            "Epoch 4/20\n",
            "663/663 [==============================] - 2s 3ms/step - loss: 0.2972 - accuracy: 0.9326 - val_loss: 0.3479 - val_accuracy: 0.9079\n",
            "Epoch 5/20\n",
            "663/663 [==============================] - 2s 3ms/step - loss: 0.2416 - accuracy: 0.9450 - val_loss: 0.2863 - val_accuracy: 0.9240\n",
            "Epoch 6/20\n",
            "663/663 [==============================] - 2s 3ms/step - loss: 0.2017 - accuracy: 0.9535 - val_loss: 0.2454 - val_accuracy: 0.9325\n",
            "Epoch 7/20\n",
            "663/663 [==============================] - 2s 4ms/step - loss: 0.1712 - accuracy: 0.9603 - val_loss: 0.2152 - val_accuracy: 0.9351\n",
            "Epoch 8/20\n",
            "663/663 [==============================] - 2s 3ms/step - loss: 0.1471 - accuracy: 0.9651 - val_loss: 0.1793 - val_accuracy: 0.9497\n",
            "Epoch 9/20\n",
            "663/663 [==============================] - 2s 3ms/step - loss: 0.1278 - accuracy: 0.9689 - val_loss: 0.1535 - val_accuracy: 0.9583\n",
            "Epoch 10/20\n",
            "663/663 [==============================] - 2s 3ms/step - loss: 0.1121 - accuracy: 0.9734 - val_loss: 0.1396 - val_accuracy: 0.9598\n",
            "Epoch 11/20\n",
            "663/663 [==============================] - 2s 4ms/step - loss: 0.0992 - accuracy: 0.9768 - val_loss: 0.1222 - val_accuracy: 0.9665\n",
            "Epoch 12/20\n",
            "663/663 [==============================] - 2s 4ms/step - loss: 0.0887 - accuracy: 0.9793 - val_loss: 0.1061 - val_accuracy: 0.9728\n",
            "Epoch 13/20\n",
            "663/663 [==============================] - 2s 4ms/step - loss: 0.0800 - accuracy: 0.9814 - val_loss: 0.0990 - val_accuracy: 0.9736\n",
            "Epoch 14/20\n",
            "663/663 [==============================] - 2s 3ms/step - loss: 0.0728 - accuracy: 0.9830 - val_loss: 0.0890 - val_accuracy: 0.9766\n",
            "Epoch 15/20\n",
            "663/663 [==============================] - 2s 3ms/step - loss: 0.0666 - accuracy: 0.9846 - val_loss: 0.0847 - val_accuracy: 0.9777\n",
            "Epoch 16/20\n",
            "663/663 [==============================] - 2s 3ms/step - loss: 0.0614 - accuracy: 0.9856 - val_loss: 0.0761 - val_accuracy: 0.9814\n",
            "Epoch 17/20\n",
            "663/663 [==============================] - 2s 3ms/step - loss: 0.0569 - accuracy: 0.9865 - val_loss: 0.0696 - val_accuracy: 0.9839\n",
            "Epoch 18/20\n",
            "663/663 [==============================] - 2s 3ms/step - loss: 0.0530 - accuracy: 0.9872 - val_loss: 0.0638 - val_accuracy: 0.9859\n",
            "Epoch 19/20\n",
            "663/663 [==============================] - 2s 4ms/step - loss: 0.0496 - accuracy: 0.9879 - val_loss: 0.0639 - val_accuracy: 0.9843\n",
            "Epoch 20/20\n",
            "663/663 [==============================] - 2s 4ms/step - loss: 0.0466 - accuracy: 0.9889 - val_loss: 0.0615 - val_accuracy: 0.9844\n"
          ]
        }
      ]
    },
    {
      "cell_type": "markdown",
      "metadata": {
        "id": "wwdQyGg6MPOE"
      },
      "source": [
        "Plot the loss funciton vs. the epoch number for all three learning rates on one graph.  You should see that the lower learning rates are more stable, but converge slower."
      ]
    },
    {
      "cell_type": "code",
      "metadata": {
        "id": "QRBGecAVMPOE",
        "colab": {
          "base_uri": "https://localhost:8080/",
          "height": 295
        },
        "outputId": "c0e54ab4-6098-4154-d9ab-c27c9583449e"
      },
      "source": [
        "# TODO 13\n",
        "loss0 = loss_hist[0]\n",
        "loss1 = loss_hist[1]\n",
        "loss2 = loss_hist[2]\n",
        "\n",
        "plt.plot(loss0)\n",
        "plt.plot(loss1)\n",
        "plt.plot(loss2)\n",
        "plt.grid()\n",
        "plt.xlabel('epochs')\n",
        "plt.ylabel('loss')\n",
        "plt.legend(['0.01', '0.001', '0.0001'])"
      ],
      "execution_count": 100,
      "outputs": [
        {
          "output_type": "execute_result",
          "data": {
            "text/plain": [
              "<matplotlib.legend.Legend at 0x7f91f5034d10>"
            ]
          },
          "metadata": {},
          "execution_count": 100
        },
        {
          "output_type": "display_data",
          "data": {
            "image/png": "[encoded data removed]",
            "text/plain": [
              "<Figure size 432x288 with 1 Axes>"
            ]
          },
          "metadata": {
            "needs_background": "light"
          }
        }
      ]
    },
    {
      "cell_type": "code",
      "metadata": {
        "id": "jGiNeenzMPOE",
        "colab": {
          "base_uri": "https://localhost:8080/",
          "height": 295
        },
        "outputId": "1ddb4352-30e3-438a-b9be-ad639cf7a1bc"
      },
      "source": [
        "loss0 = val_loss_hist[0]\n",
        "loss1 = val_loss_hist[1]\n",
        "loss2 = val_loss_hist[2]\n",
        "\n",
        "plt.plot(loss0)\n",
        "plt.plot(loss1)\n",
        "plt.plot(loss2)\n",
        "plt.grid()\n",
        "plt.xlabel('epochs')\n",
        "plt.ylabel('validation loss')\n",
        "plt.legend(['0.01', '0.001', '0.0001'])"
      ],
      "execution_count": 101,
      "outputs": [
        {
          "output_type": "execute_result",
          "data": {
            "text/plain": [
              "<matplotlib.legend.Legend at 0x7f91f4fb8c10>"
            ]
          },
          "metadata": {},
          "execution_count": 101
        },
        {
          "output_type": "display_data",
          "data": {
            "image/png": "[encoded data removed]",
            "text/plain": [
              "<Figure size 432x288 with 1 Axes>"
            ]
          },
          "metadata": {
            "needs_background": "light"
          }
        }
      ]
    },
    {
      "cell_type": "code",
      "metadata": {
        "id": "NwSr2ylKMPOE"
      },
      "source": [
        ""
      ],
      "execution_count": null,
      "outputs": []
    }
  ]
}