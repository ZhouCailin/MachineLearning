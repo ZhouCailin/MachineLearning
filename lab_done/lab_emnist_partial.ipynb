{
  "nbformat": 4,
  "nbformat_minor": 0,
  "metadata": {
    "kernelspec": {
      "display_name": "Python 3",
      "language": "python",
      "name": "python3"
    },
    "language_info": {
      "codemirror_mode": {
        "name": "ipython",
        "version": 3
      },
      "file_extension": ".py",
      "mimetype": "text/x-python",
      "name": "python",
      "nbconvert_exporter": "python",
      "pygments_lexer": "ipython3",
      "version": "3.8.5"
    },
    "colab": {
      "name": "“lab_emnist_partial.ipynb”的副本",
      "provenance": [],
      "include_colab_link": true
    }
  },
  "cells": [
    {
      "cell_type": "markdown",
      "metadata": {
        "id": "view-in-github",
        "colab_type": "text"
      },
      "source": [
        "<a href=\"https://colab.research.google.com/github/ZhouCailin/MachineLearning/blob/master/lab_done/lab_emnist_partial.ipynb\" target=\"_parent\"><img src=\"https://colab.research.google.com/assets/colab-badge.svg\" alt=\"Open In Colab\"/></a>"
      ]
    },
    {
      "cell_type": "markdown",
      "metadata": {
        "id": "Pdt_oAPDmyPS"
      },
      "source": [
        "# Lab: SVMs on Extended MNIST\n",
        "\n",
        "In the [MNIST demo](demo_mnist_svm.ipynb), we saw how SVMs can be used for the classic MNIST problem of digit recognition. In this lab, we are going to extend the MNIST dataset by adding a number of non-digit letters and see if the classifier can distinguish the digits from the non-digits. All non-digits will be lumped as a single 11-th class. This is a highly simplified version of 'detection' problem (as opposed to 'classification' problem). Detection is vital in OCR and related problems since the non useful characters must be rejected. \n",
        "\n",
        "In addition to the concepts in the demo, you will learn:\n",
        "* Combine multiple datasets\n",
        "* Select the SVM parameters (`C` and `gamma`) via cross-validation.\n",
        "* Use the `GridSearchCV` method to search for parameters with cross-validation.\n",
        "\n",
        "Note:  An [earlier version](lab_emnist_2017_partial.ipynb) of this lab made you manually create the combined letter and digit data.  In this lab, we will download the data from NIST website.  But, the old lab is still useful to look at if you want to see how to use `skimage` package for a number of image pre-processing tasks."
      ]
    },
    {
      "cell_type": "markdown",
      "metadata": {
        "id": "0JgylTsimyPV"
      },
      "source": [
        "As usual, we download the standard packages"
      ]
    },
    {
      "cell_type": "code",
      "metadata": {
        "collapsed": true,
        "id": "hsUcB-rNmyPW"
      },
      "source": [
        "import numpy as np\n",
        "import matplotlib.pyplot as plt\n",
        "%matplotlib inline\n",
        "from sklearn import linear_model, preprocessing"
      ],
      "execution_count": 3,
      "outputs": []
    },
    {
      "cell_type": "markdown",
      "metadata": {
        "id": "IQEmUJxGmyPX"
      },
      "source": [
        "## Downloading the EMNIST Dataset\n",
        "\n",
        "After creating the highly popular MNIST dataset, NIST created an extended version of the dataset to include letters and digits.     The extended datase (called EMNIST) also has many more examples per class.  \n",
        "\n",
        "To download the data, first go to the [EMNIST webpage](https://www.nist.gov/itl/iad/image-group/emnist-dataset).  Near the bottom, you will see a link for `MATLAB format dataset`.  If you click on this link, you will download a `zip` file with several datasets in it.  The total file is 726M, so it may take some time and diskspace to download.  Extract two files:\n",
        "* `emnist-digits.mat`:  This is a file of digits `0` to `9`, but with more examples per class.\n",
        "* `emnist-letters.mat`:  This is a file of letters `a/A` to `z/Z`.  The lower and upper case letters are grouped into the same class.\n",
        "\n",
        "Once you get these two files, you can save yourself the diskspace and remove all the other files.\n",
        "\n",
        "You can download the files manually, or you can run the following commands which will download the files automatically.  "
      ]
    },
    {
      "cell_type": "code",
      "metadata": {
        "id": "DT3SK4UmmyPX",
        "colab": {
          "base_uri": "https://localhost:8080/"
        },
        "outputId": "0f0653bf-8983-4d83-b4e5-0c6094f400f0"
      },
      "source": [
        "from tqdm import tqdm\n",
        "import requests\n",
        "import os\n",
        "import zipfile\n",
        "\n",
        "def download_file(src_url, dst_fn):\n",
        "    \n",
        "    if os.path.exists(dst_fn):\n",
        "        print('File %s already exists' % dst_fn)\n",
        "        return\n",
        "    \n",
        "    print('Downloading %s' % dst_fn)\n",
        "    \n",
        "    # Streaming, so we can iterate over the response.\n",
        "    r = requests.get(src_url, stream=True)\n",
        "\n",
        "    # Total size in MB.\n",
        "    total_size = int(r.headers.get('content-length', 0)); \n",
        "    block_size = 1024\n",
        "    wrote = 0 \n",
        "    with open(dst_fn, 'wb') as f:\n",
        "        with tqdm(total=total_size//block_size, unit='kB', \n",
        "                           unit_scale=True, unit_divisor=1024) as pbar:\n",
        "            for data in r.iter_content(block_size):\n",
        "                wrote = wrote + len(data)\n",
        "                pbar.update(1)\n",
        "                f.write(data)\n",
        "    if total_size != 0 and wrote != total_size:\n",
        "        print(\"ERROR, something went wrong\") \n",
        "\n",
        "# Get file names\n",
        "matlab_dir = 'matlab'\n",
        "digits_fn =  os.path.join(matlab_dir,'emnist-digits.mat')\n",
        "letters_fn = os.path.join(matlab_dir,'emnist-letters.mat')\n",
        "\n",
        "# Check if files exists\n",
        "if os.path.exists(matlab_dir):\n",
        "    if os.path.exists(digits_fn) and os.path.exists(letters_fn):\n",
        "        print('Files already downloaded')\n",
        "        files_exists = True\n",
        "else:\n",
        "    files_exists = False\n",
        "    \n",
        "if not files_exists:\n",
        "    # First download the zip file if needed\n",
        "    src_url = \"http://www.itl.nist.gov/iaui/vip/cs_links/EMNIST/matlab.zip\"\n",
        "    dst_fn = 'matlab.zip'\n",
        "    download_file(src_url, dst_fn)\n",
        "    \n",
        "    # Then, unzip the file\n",
        "    print('Unzipping %s...' % dst_fn)\n",
        "    zip_ref = zipfile.ZipFile(dst_fn, 'r')\n",
        "    zip_ref.extractall('.')\n",
        "    zip_ref.close()\n",
        "    print('Unzip completed')"
      ],
      "execution_count": 4,
      "outputs": [
        {
          "output_type": "stream",
          "name": "stdout",
          "text": [
            "Downloading matlab.zip\n"
          ]
        },
        {
          "output_type": "stream",
          "name": "stderr",
          "text": [
            "709kkB [00:17, 42.6kkB/s]                          \n"
          ]
        },
        {
          "output_type": "stream",
          "name": "stdout",
          "text": [
            "Unzipping matlab.zip...\n",
            "Unzip completed\n"
          ]
        }
      ]
    },
    {
      "cell_type": "markdown",
      "metadata": {
        "id": "_sqyunPZmyPY"
      },
      "source": [
        "Since MATLAB files are still widely-used, Python has excellent routines for loading MATLAB files.  The function below uses the `scipy.io` package to extract the relevant fields from the MATLAB file.  Specifically, the function extracts the training and test data from MATLAB file. "
      ]
    },
    {
      "cell_type": "code",
      "metadata": {
        "collapsed": true,
        "id": "H2eQ1GRcmyPZ"
      },
      "source": [
        "import scipy.io\n",
        "def load_emnist(file_path='emnist-digits.mat'):\n",
        "    \"\"\"\n",
        "    Loads training and test data with ntr and nts training and test samples\n",
        "    The `file_path` is the location of the `eminst-balanced.mat`.\n",
        "    \"\"\"    \n",
        "    \n",
        "    # Load the MATLAB file\n",
        "    mat = scipy.io.loadmat(file_path)\n",
        "    \n",
        "    # Get the training data\n",
        "    Xtr = mat['dataset'][0][0][0][0][0][0][:]\n",
        "    ntr = Xtr.shape[0]\n",
        "    ytr = mat['dataset'][0][0][0][0][0][1][:].reshape(ntr).astype(int)\n",
        "    \n",
        "    # Get the test data\n",
        "    Xts = mat['dataset'][0][0][1][0][0][0][:]\n",
        "    nts = Xts.shape[0]\n",
        "    yts = mat['dataset'][0][0][1][0][0][1][:].reshape(nts).astype(int)\n",
        "    \n",
        "    print(\"%d training samples, %d test samples loaded\" % (ntr, nts))\n",
        "\n",
        "    return [Xtr, Xts, ytr, yts]"
      ],
      "execution_count": 1,
      "outputs": []
    },
    {
      "cell_type": "markdown",
      "metadata": {
        "id": "5jHdTuBEmyPa"
      },
      "source": [
        "Use the function above to get all the digit images from the `emnist-digits.mat` file.  "
      ]
    },
    {
      "cell_type": "code",
      "metadata": {
        "collapsed": true,
        "id": "KAz6FQ-xmyPa",
        "colab": {
          "base_uri": "https://localhost:8080/"
        },
        "outputId": "db0aaf9c-2873-4f00-c1e2-4142e5b0a10a"
      },
      "source": [
        "# TODO 1:  Load the digit data from emnist-digits.mat\n",
        "Xtr_dig, Xts_dig, ytr_dig, yts_dig = load_emnist(digits_fn)"
      ],
      "execution_count": 49,
      "outputs": [
        {
          "output_type": "stream",
          "name": "stdout",
          "text": [
            "240000 training samples, 40000 test samples loaded\n"
          ]
        }
      ]
    },
    {
      "cell_type": "markdown",
      "metadata": {
        "id": "jRQ9SAHdmyPb"
      },
      "source": [
        "Next, use the function above to get all the letter characters from the `emnist-letters.mat` file.  "
      ]
    },
    {
      "cell_type": "code",
      "metadata": {
        "collapsed": true,
        "id": "i1tUcpmomyPb",
        "colab": {
          "base_uri": "https://localhost:8080/"
        },
        "outputId": "82e28d4e-dd80-4bf3-bed2-c48f57fa2f37"
      },
      "source": [
        "# TODO 2:  Load the digit data from emnist-letters.mat\n",
        "Xtr_let, Xts_let, ytr_let, yts_let = load_emnist(letters_fn)"
      ],
      "execution_count": 47,
      "outputs": [
        {
          "output_type": "stream",
          "name": "stdout",
          "text": [
            "124800 training samples, 20800 test samples loaded\n"
          ]
        }
      ]
    },
    {
      "cell_type": "markdown",
      "metadata": {
        "id": "THcTZxHcmyPb"
      },
      "source": [
        "We will use the function from the demo to plot the digits."
      ]
    },
    {
      "cell_type": "code",
      "metadata": {
        "collapsed": true,
        "id": "_4znLk99myPc"
      },
      "source": [
        "def plt_digit(ax,x,y=None):\n",
        "    nrow = 28\n",
        "    ncol = 28\n",
        "    xsq = x.reshape((nrow,ncol))\n",
        "    ax.imshow(xsq.T,  cmap='Greys_r')\n",
        "    ax.set_xticks([])\n",
        "    ax.set_yticks([])    \n",
        "    if y != None:\n",
        "      ax.set_title('%d' % y)        "
      ],
      "execution_count": 52,
      "outputs": []
    },
    {
      "cell_type": "markdown",
      "metadata": {
        "id": "scSyCrMRmyPc"
      },
      "source": [
        "Plot 8 random samples from the digit training data.  You can use the `plt_digit` function above with `subplot` to create a nice display.  You may want to size your plot with the `plt.figure(figsize=(10,20))` command."
      ]
    },
    {
      "cell_type": "code",
      "metadata": {
        "collapsed": true,
        "id": "RZfMqS7ImyPc",
        "colab": {
          "base_uri": "https://localhost:8080/",
          "height": 110
        },
        "outputId": "fb582a4c-aaf3-4176-e6ae-10ab3ef1ef97"
      },
      "source": [
        "# TODO 3:  Plot 8 random samples from the training data of the digits\n",
        "# Select random digits\n",
        "nplt = 8\n",
        "Iperm = np.random.permutation(nplt)\n",
        "\n",
        "# Plot the images using the subplot command\n",
        "fig, ax = plt.subplots(1,nplt,figsize=(10,20))\n",
        "for i in range(nplt):\n",
        "    ind = Iperm[i]\n",
        "    plt_digit(ax[i],Xtr_dig[ind],ytr_dig[ind])"
      ],
      "execution_count": 53,
      "outputs": [
        {
          "output_type": "display_data",
          "data": {
            "image/png": "[encoded data removed]",
            "text/plain": [
              "<Figure size 720x1440 with 8 Axes>"
            ]
          },
          "metadata": {}
        }
      ]
    },
    {
      "cell_type": "markdown",
      "metadata": {
        "id": "GoRB53ywmyPc"
      },
      "source": [
        "Next, plot 8 samples from the letters training data.  You should see that the labels go from 0 to 25 corresponding to `a` to `z`.  Upper and lower case letters belong to the same class."
      ]
    },
    {
      "cell_type": "code",
      "metadata": {
        "collapsed": true,
        "id": "CP9KL5B5myPd",
        "colab": {
          "base_uri": "https://localhost:8080/",
          "height": 110
        },
        "outputId": "60f03fac-d803-433d-a5a8-3cadf6017801"
      },
      "source": [
        "# TODO 4:  Plot 8 random samples from the training data of the letters\n",
        "fig, ax = plt.subplots(1,nplt,figsize=(10,20))\n",
        "for i in range(nplt):\n",
        "    ind = Iperm[i]\n",
        "    plt_digit(ax[i],Xtr_let[ind],ytr_let[ind])"
      ],
      "execution_count": 54,
      "outputs": [
        {
          "output_type": "display_data",
          "data": {
            "image/png": "[encoded data removed]",
            "text/plain": [
              "<Figure size 720x1440 with 8 Axes>"
            ]
          },
          "metadata": {}
        }
      ]
    },
    {
      "cell_type": "markdown",
      "metadata": {
        "id": "Y6pNGqnamyPd"
      },
      "source": [
        "## Creating a Non-Digit Class\n",
        "\n",
        "SVM classifiers are VERY SLOW to train.  The training is particularly slow when there are a large number of classes, since the one classifier must be trained for each pair of labels.  To make the problem easier, we are going to lump all of the letters in one class and add that class to the digits.  \n",
        "\n",
        "Before we begin, we first need to remove all the letters corresponding to `i/I`, `l/L` and `o/O`.  The reason is that these letters would get confused with the digits `0` and `1`.  Create arrays `Xtr_let_rem` and `ytr_let_rem` from the data `Xtr_let` and `ytr_let`, where the samples `i` with `ytr_let[i] == 9, 12` or `15` are removed.   Create `Xts_let_rem` and `yts_let_rem` similarly.\n",
        "\n",
        "If you are clever, you can do this without a for-loop via python broadcasting and `np.all(..., axis=1)` command.  But, you will receive full marks if you use a `for-loop`."
      ]
    },
    {
      "cell_type": "code",
      "metadata": {
        "colab": {
          "base_uri": "https://localhost:8080/"
        },
        "id": "AMJOIzMAqUVB",
        "outputId": "44c4dde2-36e9-4b5a-8ca7-46d22d174ecb"
      },
      "source": [
        "a=np.array([[1,2,3,4],[2,3,4,5],[2,2,2,2]])\n",
        "b=np.array([1,4])\n",
        "idx=np.all(np.isin(a,b,invert=True),axis=1)\n",
        "a[idx]"
      ],
      "execution_count": 103,
      "outputs": [
        {
          "output_type": "execute_result",
          "data": {
            "text/plain": [
              "array([[2, 2, 2, 2]])"
            ]
          },
          "metadata": {},
          "execution_count": 103
        }
      ]
    },
    {
      "cell_type": "code",
      "metadata": {
        "collapsed": true,
        "id": "EnU1Ha-TmyPd",
        "colab": {
          "base_uri": "https://localhost:8080/"
        },
        "outputId": "2d631536-7802-4d44-9bdf-dc8bf49edc65"
      },
      "source": [
        "remove_list = np.array([9,12,15])\n",
        "# TODO 5:  Create arrays with labels 9, 12 and 15 removed\n",
        "idx_tr=np.isin(ytr_let,remove_list,invert=True)\n",
        "idx_ts=np.isin(yts_let,remove_list,invert=True)\n",
        "Xtr_let_rem, ytr_let_rem = Xtr_let[idx_tr,:], ytr_let[idx_tr]\n",
        "Xts_let_rem, yts_let_rem = Xts_let[idx_ts,:], yts_let[idx_ts]\n",
        "Xtr_let_rem.shape,Xts_let_rem.shape"
      ],
      "execution_count": 106,
      "outputs": [
        {
          "output_type": "execute_result",
          "data": {
            "text/plain": [
              "((110400, 784), (18400, 784))"
            ]
          },
          "metadata": {},
          "execution_count": 106
        }
      ]
    },
    {
      "cell_type": "markdown",
      "metadata": {
        "id": "jaXI020wmyPd"
      },
      "source": [
        "Since training and testing an SVM is VERY SLOW, we will use only a small subset of the training and test data.  Of course, you will not get great results with this small dataset.  But, we can at least illustrate the basic concepts.  \n",
        "\n",
        "Create arrays `Xtr1_dig` and `ytr1_dig` by selecting 5000 random training digit samples from `Xtr_dig` and `ytr_dig`.  Create arrays `Xtr1_let` and `ytr1_let` by selecting 1000 random training letter samples from `Xtr_let_rem` and `ytr_let_rem`.  Similarly, create test arrays `Xts1_dig,Xts1_let,yts1_dig,yts1_let` with 5000 digits and 1000 letters."
      ]
    },
    {
      "cell_type": "code",
      "metadata": {
        "collapsed": true,
        "id": "VoY4aCsomyPd"
      },
      "source": [
        "# Number of training and test digits and letters\n",
        "ntr_dig = 5000\n",
        "ntr_let = 1000\n",
        "nts_dig = 5000\n",
        "nts_let = 1000\n",
        "tr_idx_dig=np.random.permutation(ntr_dig)\n",
        "tr_idx_let=np.random.permutation(ntr_let)\n",
        "ts_idx_dig=np.random.permutation(nts_dig)\n",
        "ts_idx_let=np.random.permutation(nts_let)\n",
        "\n",
        "# TODO 6 Create sub-sampled training and test data\n",
        "Xtr1_dig, ytr1_dig = Xtr_dig[tr_idx_dig,:], ytr_dig[tr_idx_dig]\n",
        "Xts1_dig, yts1_dig = Xts_dig[ts_idx_dig,:], yts_dig[ts_idx_dig]\n",
        "Xtr1_let, ytr1_let = Xtr_let_rem[tr_idx_let,:], ytr_let_rem[tr_idx_let]\n",
        "Xts1_let, yts1_let = Xts_let_rem[ts_idx_let,:], yts_let_rem[ts_idx_let]"
      ],
      "execution_count": 156,
      "outputs": []
    },
    {
      "cell_type": "markdown",
      "metadata": {
        "id": "USCrUyUlmyPe"
      },
      "source": [
        "Next, we create data by combining the digit and letter arrays.\n",
        "* Create an array `Xtr` by stacking `Xtr1_dig`, `Xtr1_let`.  This should result in 6000 total samples.\n",
        "* Create a new label vector `ytr` where `ytr[i] = ytr1_dig[i]` for any digit sample and `ytr[i]=10` for any letter sample.  Thus, all the letters are lumped into a single class with label 11.\n",
        "\n",
        "Create test arrays `Xts` and `yts` similarly. \n",
        "\n",
        "You may wish to use the `np.hstack` and `np.vstack` methods."
      ]
    },
    {
      "cell_type": "code",
      "metadata": {
        "collapsed": true,
        "id": "XWy-B7jimyPe",
        "colab": {
          "base_uri": "https://localhost:8080/"
        },
        "outputId": "298fbb1e-8aa1-40c5-873a-e758f273312d"
      },
      "source": [
        "# TODO 7:  Create combined letter and digit training and test data\n",
        "Xtr, ytr = np.vstack((Xtr1_dig,Xtr1_let)),np.hstack((ytr1_dig,ytr1_let*0+10))\n",
        "Xts, yts = np.vstack((Xts1_dig,Xts1_let)),np.hstack((yts1_dig,yts1_let*0+10))\n",
        "Xts.shape,yts.shape"
      ],
      "execution_count": 157,
      "outputs": [
        {
          "output_type": "execute_result",
          "data": {
            "text/plain": [
              "((6000, 784), (6000,))"
            ]
          },
          "metadata": {},
          "execution_count": 157
        }
      ]
    },
    {
      "cell_type": "markdown",
      "metadata": {
        "id": "aasXqx5pmyPe"
      },
      "source": [
        "The training data above takes values from 0 to 255.  Rescale the data from -1 to 1.  This will get slightly better performance on the SVM.  Save the scaled data into arrays `Xtr1` and `Xts1`."
      ]
    },
    {
      "cell_type": "code",
      "metadata": {
        "collapsed": true,
        "id": "WWx2tuLOmyPe"
      },
      "source": [
        "# TODO 8:  Rescale the data from -1 to 1\n",
        "from sklearn.preprocessing import MinMaxScaler\n",
        "scaler = preprocessing.MinMaxScaler(feature_range=(-1, 1), copy=True).fit(Xtr)\n",
        "Xtr1 = scaler.transform(Xtr)\n",
        "Xts1 = scaler.transform(Xts)"
      ],
      "execution_count": 158,
      "outputs": []
    },
    {
      "cell_type": "markdown",
      "metadata": {
        "id": "9ii6pLuGmyPe"
      },
      "source": [
        "## Run the SVM classifier\n",
        "\n",
        "First create the SVM classifer. Use an `rbf` classifier with `C=2.8` and `gamma=.0073`. We will look at how to select these parameters laters."
      ]
    },
    {
      "cell_type": "code",
      "metadata": {
        "collapsed": true,
        "id": "DbvVFXw0myPe"
      },
      "source": [
        "from sklearn import svm\n",
        "\n",
        "# TODO 9:  Create a classifier: a support vector classifier\n",
        "svc = svm.SVC(kernel=\"rbf\", C=2.8, gamma=.0073)"
      ],
      "execution_count": 159,
      "outputs": []
    },
    {
      "cell_type": "markdown",
      "metadata": {
        "id": "1E334d1kmyPf"
      },
      "source": [
        "Fit the classifier using the scaled training data.  SVMs are insanely slow to train.  But, in this lab, we have kept the training size very small. So, the fitting should take about a minute or two."
      ]
    },
    {
      "cell_type": "code",
      "metadata": {
        "collapsed": true,
        "id": "owSxYTR8myPf",
        "colab": {
          "base_uri": "https://localhost:8080/"
        },
        "outputId": "71660959-e4bf-4c76-a2cc-2ec2cf0f24df"
      },
      "source": [
        "# TODO 10:  Fit the classifier on the training data. \n",
        "svc.fit(Xtr1,ytr)"
      ],
      "execution_count": 160,
      "outputs": [
        {
          "output_type": "execute_result",
          "data": {
            "text/plain": [
              "SVC(C=2.8, break_ties=False, cache_size=200, class_weight=None, coef0=0.0,\n",
              "    decision_function_shape='ovr', degree=3, gamma=0.0073, kernel='rbf',\n",
              "    max_iter=-1, probability=False, random_state=None, shrinking=True,\n",
              "    tol=0.001, verbose=False)"
            ]
          },
          "metadata": {},
          "execution_count": 160
        }
      ]
    },
    {
      "cell_type": "markdown",
      "metadata": {
        "id": "BIBp7fQrmyPf"
      },
      "source": [
        "Measure the accuracy on the test data.  This too will take another huge amount of time.  Print the accuracy.  If you did everything right, you should get an accuracy of around 89%."
      ]
    },
    {
      "cell_type": "code",
      "metadata": {
        "collapsed": true,
        "id": "DzGF0syomyPf",
        "colab": {
          "base_uri": "https://localhost:8080/"
        },
        "outputId": "a7b11efc-189e-48fc-9112-b5cf30fc7df3"
      },
      "source": [
        "# TODO 11:  Measure error on the test data\n",
        "yhat1=svc.predict(Xts1)\n",
        "acc=np.mean(yhat1 == yts)\n",
        "acc"
      ],
      "execution_count": 161,
      "outputs": [
        {
          "output_type": "execute_result",
          "data": {
            "text/plain": [
              "0.9148333333333334"
            ]
          },
          "metadata": {},
          "execution_count": 161
        }
      ]
    },
    {
      "cell_type": "markdown",
      "metadata": {
        "id": "OvMh39UKmyPf"
      },
      "source": [
        "The error rate is quite a bit higher than what we got in the digits only case.  Actually, had we done a classifier using all 36 labels instead of collapsing the letters to a single class, the SVM classifier would have done much better.  The reason is that the \"letters\" class is now extremely complex.  \n",
        "\n",
        "Print a confusion matrix.  You should see that the error rate on the \"letters\" class is much higher."
      ]
    },
    {
      "cell_type": "code",
      "metadata": {
        "collapsed": true,
        "id": "kFSNTX_tmyPf",
        "colab": {
          "base_uri": "https://localhost:8080/",
          "height": 464
        },
        "outputId": "01e7a202-b01b-4304-f07c-c5eb811615a2"
      },
      "source": [
        "# TODO 12:  Print a confusion matrix\n",
        "from sklearn.metrics import confusion_matrix\n",
        "C = confusion_matrix(yts,yhat1)\n",
        "\n",
        "# Normalize the confusion matrix\n",
        "Csum = np.sum(C,1)\n",
        "C = C / Csum[None,:]\n",
        "\n",
        "# Print the confusion matrix\n",
        "print(np.array_str(C, precision=3, suppress_small=True))\n",
        "plt.imshow(C, interpolation='none')\n",
        "plt.colorbar()"
      ],
      "execution_count": 162,
      "outputs": [
        {
          "output_type": "stream",
          "name": "stdout",
          "text": [
            "[[0.938 0.    0.    0.    0.002 0.002 0.004 0.    0.    0.    0.031]\n",
            " [0.    0.985 0.    0.    0.    0.    0.    0.    0.    0.    0.007]\n",
            " [0.004 0.002 0.895 0.    0.    0.    0.    0.008 0.006 0.    0.045]\n",
            " [0.    0.    0.008 0.909 0.    0.014 0.    0.002 0.01  0.    0.026]\n",
            " [0.    0.    0.    0.    0.877 0.    0.002 0.    0.    0.011 0.058]\n",
            " [0.002 0.    0.    0.008 0.    0.922 0.    0.    0.006 0.    0.031]\n",
            " [0.    0.    0.    0.    0.    0.008 0.923 0.    0.002 0.    0.033]\n",
            " [0.    0.    0.    0.    0.    0.    0.    0.973 0.    0.011 0.008]\n",
            " [0.    0.002 0.002 0.002 0.    0.002 0.    0.    0.883 0.006 0.051]\n",
            " [0.    0.002 0.    0.    0.    0.    0.    0.015 0.002 0.937 0.021]\n",
            " [0.046 0.004 0.04  0.017 0.036 0.    0.049 0.    0.053 0.006 0.871]]\n"
          ]
        },
        {
          "output_type": "execute_result",
          "data": {
            "text/plain": [
              "<matplotlib.colorbar.Colorbar at 0x7f03d5ed8910>"
            ]
          },
          "metadata": {},
          "execution_count": 162
        },
        {
          "output_type": "display_data",
          "data": {
            "image/png": "[encoded data removed]",
            "text/plain": [
              "<Figure size 432x288 with 2 Axes>"
            ]
          },
          "metadata": {
            "needs_background": "light"
          }
        }
      ]
    },
    {
      "cell_type": "markdown",
      "metadata": {
        "id": "cJMBbmawmyPg"
      },
      "source": [
        "Print:\n",
        "* What fraction of digits are mislabeled as letters?  \n",
        "* What fraction of letters are mislabeled as digits?"
      ]
    },
    {
      "cell_type": "code",
      "metadata": {
        "collapsed": true,
        "id": "PIrPK8hwmyPg",
        "colab": {
          "base_uri": "https://localhost:8080/"
        },
        "outputId": "d85f2511-ac5e-498f-d34e-226433db81f3"
      },
      "source": [
        "# TODO 13:  Print above two error rates\n",
        "real_dig=yts!=10\n",
        "pre_let=yhat1==10\n",
        "dig_mis_let=np.mean(np.logical_and(real_dig,pre_let))\n",
        "real_let=yts==10\n",
        "pre_dig=yhat1!=10\n",
        "let_mis_dig=np.mean(np.logical_and(real_let,pre_dig))\n",
        "print(\"Fraction of digits are mislabeled as letters: %.4f\" % (dig_mis_let))\n",
        "print(\"Fraction of lettes are mislabeled as digits: %.4f\" % (let_mis_dig))"
      ],
      "execution_count": 192,
      "outputs": [
        {
          "output_type": "stream",
          "name": "stdout",
          "text": [
            "Fraction of digits are mislabeled as letters: 0.0518\n",
            "Fraction of lettes are mislabeled as digits: 0.0215\n"
          ]
        }
      ]
    },
    {
      "cell_type": "markdown",
      "metadata": {
        "id": "fb1F9d0MmyPg"
      },
      "source": [
        "## Selecting gamma and C via Cross-Validation (Using For-Loops)\n",
        "\n",
        "In the above example, and in the demo, we used a given `gamma` and `C` value.  The selection of the parameters depend on the problem and decent performance of the SVM requires that you select these parameters carefully.  The best way to select the parameters is via cross validation.  Specifically, generally, one tries different values of `gamma` and `C` and selects the pair of values the lowest test error rate.\n",
        "\n",
        "In the code below, we will try to use 3 values for `C` and `gamma` as specified in the arrays `C_test` and `gam_test`.  For each `C` and `gamma` in these arrays, fit a model on the training data and measure the accuracy on the test data.  Then, print the `C` and `gamma` that result in the best accuracy.   \n",
        "\n",
        "Normally, you would try a large number of values for each of the parameters, but an SVM is very slow to train -- even with this small data set.  So, we will just do 3 values of each.  Even then, this could take 30 minutes or so to complete. \n",
        "\n",
        "In this lab, you may do the parameter search over `C` and `gamma` in one of two ways:\n",
        "* This section:  Use for loops and manually search over the parameters.  This is more direct and you will see and control exactly what is happening.\n",
        "* Next section:  Use the `GridSearchCV` method in the `sklearn` package.  This takes a little reading, but once you learn this method, you can more easily use this for complex parameter searches.\n",
        "\n",
        "**You only need to submit the solutions to one of the two sections.**  Pick whichever one you want."
      ]
    },
    {
      "cell_type": "code",
      "metadata": {
        "collapsed": true,
        "id": "2KhDJwEgmyPg",
        "colab": {
          "base_uri": "https://localhost:8080/"
        },
        "outputId": "85c10cf9-0b7e-4264-f03c-adb6889a190e"
      },
      "source": [
        "C_test = [0.1,1,10]\n",
        "gam_test = [0.001,0.01,0.1]\n",
        "\n",
        "nC = len(C_test)\n",
        "ngam = len(gam_test)\n",
        "acc = np.zeros((nC,ngam))\n",
        "\n",
        "# TODO 14:  Measure and print the accuracy for each C and gamma value.  Store the results in acc\n",
        "for i,C in enumerate(C_test):\n",
        "  for j,gam in enumerate(gam_test):\n",
        "\n",
        "    # data process\n",
        "    tr_idx_dig=np.random.permutation(ntr_dig)\n",
        "    tr_idx_let=np.random.permutation(ntr_let)\n",
        "    ts_idx_dig=np.random.permutation(nts_dig)\n",
        "    ts_idx_let=np.random.permutation(nts_let)\n",
        "    Xtr1_dig, ytr1_dig = Xtr_dig[tr_idx_dig,:], ytr_dig[tr_idx_dig]\n",
        "    Xts1_dig, yts1_dig = Xts_dig[ts_idx_dig,:], yts_dig[ts_idx_dig]\n",
        "    Xtr1_let, ytr1_let = Xtr_let_rem[tr_idx_let,:], ytr_let_rem[tr_idx_let]\n",
        "    Xts1_let, yts1_let = Xts_let_rem[ts_idx_let,:], yts_let_rem[ts_idx_let]\n",
        "    Xtr, ytr = np.vstack((Xtr1_dig,Xtr1_let)),np.hstack((ytr1_dig,ytr1_let*0+10))\n",
        "    Xts, yts = np.vstack((Xts1_dig,Xts1_let)),np.hstack((yts1_dig,yts1_let*0+10))\n",
        "    Xtr1 = scaler.transform(Xtr)\n",
        "    Xts1 = scaler.transform(Xts)\n",
        "\n",
        "    #model trainining and predict\n",
        "    svc = svm.SVC(kernel=\"rbf\", C=C, gamma=gam)\n",
        "    svc.fit(Xtr1,ytr)\n",
        "    yhat1=svc.predict(Xts1)\n",
        "    ac=np.mean(yhat1 == yts)\n",
        "    acc[i,j]=ac\n",
        "\n",
        "    print(f\"C={C}, Gam={gam}, acc={ac}\")"
      ],
      "execution_count": 196,
      "outputs": [
        {
          "output_type": "stream",
          "name": "stdout",
          "text": [
            "C=0.1, Gam=0.001, acc=0.7903333333333333\n",
            "C=0.1, Gam=0.01, acc=0.5853333333333334\n",
            "C=0.1, Gam=0.1, acc=0.16666666666666666\n",
            "C=1, Gam=0.001, acc=0.8686666666666667\n",
            "C=1, Gam=0.01, acc=0.8945\n",
            "C=1, Gam=0.1, acc=0.21716666666666667\n",
            "C=10, Gam=0.001, acc=0.9046666666666666\n",
            "C=10, Gam=0.01, acc=0.902\n",
            "C=10, Gam=0.1, acc=0.2195\n"
          ]
        }
      ]
    },
    {
      "cell_type": "code",
      "metadata": {
        "collapsed": true,
        "id": "VNR6grHGmyPg",
        "colab": {
          "base_uri": "https://localhost:8080/"
        },
        "outputId": "fb5589e2-bf6e-40e3-82e0-5348c1b1a36e"
      },
      "source": [
        "# TODO 15:  Print the accuracy matrix\n",
        "print(np.array_str(acc, precision=3, suppress_small=True))"
      ],
      "execution_count": 197,
      "outputs": [
        {
          "output_type": "stream",
          "name": "stdout",
          "text": [
            "[[0.79  0.585 0.167]\n",
            " [0.869 0.894 0.217]\n",
            " [0.905 0.902 0.22 ]]\n"
          ]
        }
      ]
    },
    {
      "cell_type": "code",
      "metadata": {
        "collapsed": true,
        "id": "LiF2ZwtgmyPg",
        "colab": {
          "base_uri": "https://localhost:8080/"
        },
        "outputId": "ca112c12-b3da-4605-f1a7-21b8ac9cb040"
      },
      "source": [
        "# TODO 16:  Print the maximum accuracy and the corresponding best C and gamma\n",
        "index = np.unravel_index(acc.argmax(), acc.shape)\n",
        "print(f\"Best C and gamma are {C_test[index[0]]} and {gam_test[index[1]]}, get maximum accuracy {acc[index]}\")"
      ],
      "execution_count": 215,
      "outputs": [
        {
          "output_type": "stream",
          "name": "stdout",
          "text": [
            "Best C and gamma are 10 and 0.001, get maximum accuracy 0.9046666666666666\n"
          ]
        }
      ]
    },
    {
      "cell_type": "markdown",
      "metadata": {
        "collapsed": true,
        "id": "d6ukcRGumyPh"
      },
      "source": [
        "## Using `GridSearchCV` (Optional Section)\n",
        "\n",
        "\n",
        "In the previous section, you would have likely used `for-loops` to search over the different `C` and `gamma` values.  Since this type of parameter search is so commonly used, `sklearn` has an excellent method `GridSearchCV` that can perform all the operations for you.  In this lab, `GridSearchCV` is not that useful.  But, once you get to more complex parameter searches, the `GridSearchCV` method can save you writing a lot of code.  Importantly, `GridSearchCV` supports parallelization so that fits with different parameters can be fit at the same time.  In this optional section, we will show how to use this method.  \n",
        "\n",
        "**You do not have to do this section, if you did the previous section**.  "
      ]
    },
    {
      "cell_type": "markdown",
      "metadata": {
        "id": "ckI4fBPAmyPh"
      },
      "source": [
        "The `GridSearchCV` method does the train-test split in addition to the parameter search.  In this case, you have already a fixed train-test split.  So, you first need to combine the train and test data back into a single dataset.\n",
        "\n",
        "Create arrays `X` and `y` from `Xtr1`, `Xts1`, `ytr` and `yts`.  Use `np.vstack` and `np.hstack`."
      ]
    },
    {
      "cell_type": "code",
      "metadata": {
        "collapsed": true,
        "id": "m79D9OfmmyPh"
      },
      "source": [
        "# TODO 17:  Create combined trained and test data X and y.\n",
        "# X = ...\n",
        "# y = ..."
      ],
      "execution_count": null,
      "outputs": []
    },
    {
      "cell_type": "markdown",
      "metadata": {
        "id": "ZCN1YqGbmyPh"
      },
      "source": [
        "Normally, `GridSearchCV` will do $K$-fold validation and automatically split the data into training and test in each fold.  But, in this case, we want it to perform only one fold with a specific train-test split.  To do this, we need to do the following:\n",
        "* Create a vector `test_fold` where `test_fold[i] = -1` for the samples `i` in the training data (this indicates that they should not be used as test data in any fold) and `test_fold[i] = 0` for the samples `i` in the test data (this indicates that they should be as test data in fold 0).\n",
        "* Call the method  `ps = sklearn.model_selection.PredefinedSplit(test_fold)` to create a predefined test split object."
      ]
    },
    {
      "cell_type": "code",
      "metadata": {
        "collapsed": true,
        "id": "5b5u0NL1myPh"
      },
      "source": [
        "# TODO 18:  Create a pre-defined test split object \n",
        "# import sklearn.model_selection\n",
        "# test_fold = ...\n",
        "# ps = sklearn.model_selection.PredefinedSplit(test_fold)"
      ],
      "execution_count": null,
      "outputs": []
    },
    {
      "cell_type": "markdown",
      "metadata": {
        "id": "loP2DRyBmyPh"
      },
      "source": [
        "Next, read about the `GridSearchCV` method to set up a classifier that includes searching over the parameter grid.  \n",
        "* For the `param_grid` parameter, you will want to create a dictionary to search over `C` and `gamma`.  You will also need to select the `kernel` parameter.\n",
        "* Set `cv = ps` to use the fixed train-test split.\n",
        "* Set `verbose=10` to monitor the progress"
      ]
    },
    {
      "cell_type": "code",
      "metadata": {
        "collapsed": true,
        "id": "h7r9kzg5myPh"
      },
      "source": [
        "# TODO 19:  Create a GridSearchCV classifier\n",
        "# clf = ..."
      ],
      "execution_count": null,
      "outputs": []
    },
    {
      "cell_type": "markdown",
      "metadata": {
        "id": "9G-hmSR_myPi"
      },
      "source": [
        "Fit the classifier using the `fit` method.  The fit method will now search over all the parameters. This will take about 30 minutes."
      ]
    },
    {
      "cell_type": "code",
      "metadata": {
        "collapsed": true,
        "id": "_wKMSxFXmyPi"
      },
      "source": [
        "# TODO 20: Fit the classifier"
      ],
      "execution_count": null,
      "outputs": []
    },
    {
      "cell_type": "markdown",
      "metadata": {
        "id": "3xNdSUpQmyPi"
      },
      "source": [
        "Print the `best_score_` and `best_params_` attributes of the classifier to find the best score and parameters"
      ]
    },
    {
      "cell_type": "code",
      "metadata": {
        "collapsed": true,
        "id": "Mj4yOtFQmyPi"
      },
      "source": [
        "# TODO 21:  Print the best parameter and score of the classifier"
      ],
      "execution_count": null,
      "outputs": []
    },
    {
      "cell_type": "markdown",
      "metadata": {
        "id": "Akg87N-xmyPi"
      },
      "source": [
        "Finally, you can print the test and train score from the `cv_results_['mean_test_score']` and `cv_results_['mean_train_score']`."
      ]
    },
    {
      "cell_type": "code",
      "metadata": {
        "collapsed": true,
        "id": "ySckQeHumyPi"
      },
      "source": [
        "# TODO 22:  Print the mean test score for each parameter value."
      ],
      "execution_count": null,
      "outputs": []
    },
    {
      "cell_type": "code",
      "metadata": {
        "collapsed": true,
        "id": "0QTXBtgAmyPi"
      },
      "source": [
        ""
      ],
      "execution_count": null,
      "outputs": []
    }
  ]
}