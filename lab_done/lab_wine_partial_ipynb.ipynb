{
  "nbformat": 4,
  "nbformat_minor": 0,
  "metadata": {
    "kernelspec": {
      "display_name": "Python 3",
      "language": "python",
      "name": "python3"
    },
    "language_info": {
      "codemirror_mode": {
        "name": "ipython",
        "version": 3
      },
      "file_extension": ".py",
      "mimetype": "text/x-python",
      "name": "python",
      "nbconvert_exporter": "python",
      "pygments_lexer": "ipython3",
      "version": "3.8.5"
    },
    "colab": {
      "name": "“lab_wine_partial.ipynb”的副本",
      "provenance": [],
      "collapsed_sections": [],
      "include_colab_link": true
    }
  },
  "cells": [
    {
      "cell_type": "markdown",
      "metadata": {
        "id": "view-in-github",
        "colab_type": "text"
      },
      "source": [
        "<a href=\"https://colab.research.google.com/github/ZhouCailin/MachineLearning/blob/master/lab_done/lab_wine_partial_ipynb.ipynb\" target=\"_parent\"><img src=\"https://colab.research.google.com/assets/colab-badge.svg\" alt=\"Open In Colab\"/></a>"
      ]
    },
    {
      "cell_type": "markdown",
      "metadata": {
        "id": "9XuN4w2-bRUz"
      },
      "source": [
        "# Lab:  Hyper-Parameter Optimization with PCA\n",
        "\n",
        "PCA is often applied as a pre-processing step with classifiers.  When using PCA in this manner, one must select the number of PC components to use along with parameters in classifier.  In this lab, we will demonstrate how to performing this *hyper-parameter optimization*.  In doing the lab, you will learn to:\n",
        "\n",
        "* Combine PCA with data scaling.\n",
        "* Compute and visualize PC components\n",
        "* Select the number of PCs with K-fold cross validation\n",
        "* Implement the multi-stage classifier pipeline in sklearn\n",
        "* Perform automatic parameter search using `GridSearchCV` in combination with a pipeline.\n",
        "\n",
        "We first download the basic packages."
      ]
    },
    {
      "cell_type": "code",
      "metadata": {
        "id": "o0Js6SQ8bRU1"
      },
      "source": [
        "import numpy as np\n",
        "import matplotlib\n",
        "import matplotlib.pyplot as plt"
      ],
      "execution_count": 1,
      "outputs": []
    },
    {
      "cell_type": "markdown",
      "metadata": {
        "id": "4qGp-PN3bRU2"
      },
      "source": [
        "## Downloading the Data\n",
        "\n",
        "We will use a very simple `wine` dataset, commonly used in teaching machine learning class.  The problem is to classify the type of red wine from features of the wine such as the `alchohol` and other chemical components.  There are three possible wine types."
      ]
    },
    {
      "cell_type": "code",
      "metadata": {
        "id": "JXjIt-nabRU3",
        "colab": {
          "base_uri": "https://localhost:8080/",
          "height": 0
        },
        "outputId": "6aa5bf0b-a0e1-4951-e2c9-1a21d273bfed"
      },
      "source": [
        "from sklearn.datasets import load_wine\n",
        "from sklearn.model_selection import KFold\n",
        "data = load_wine()\n",
        "\n",
        "# TODO 1: print the features names in data.feature_names and data.target_names\n",
        "for name in data.feature_names:\n",
        "  print(f\"features:{name}\")\n",
        "for name in data.target_names:\n",
        "  print(f\"target:{name}\")"
      ],
      "execution_count": 2,
      "outputs": [
        {
          "output_type": "stream",
          "name": "stdout",
          "text": [
            "features:alcohol\n",
            "features:malic_acid\n",
            "features:ash\n",
            "features:alcalinity_of_ash\n",
            "features:magnesium\n",
            "features:total_phenols\n",
            "features:flavanoids\n",
            "features:nonflavanoid_phenols\n",
            "features:proanthocyanins\n",
            "features:color_intensity\n",
            "features:hue\n",
            "features:od280/od315_of_diluted_wines\n",
            "features:proline\n",
            "target:class_0\n",
            "target:class_1\n",
            "target:class_2\n"
          ]
        }
      ]
    },
    {
      "cell_type": "markdown",
      "metadata": {
        "id": "3KmX_zgLbRU3"
      },
      "source": [
        "Get the data matrix `X` from `data.data` and the target values `y` from `data.target`.  Print the number of samples, number of features and number of classes."
      ]
    },
    {
      "cell_type": "code",
      "metadata": {
        "id": "vYJY_b8BbRU3",
        "colab": {
          "base_uri": "https://localhost:8080/",
          "height": 0
        },
        "outputId": "4e23e4b6-cb73-4f44-8b39-b87ca77de6c6"
      },
      "source": [
        "# TODO 2:\n",
        "X = data.data\n",
        "y = data.target\n",
        "cla = np.unique(y)\n",
        "print(f\"numb of samples:{X.shape[0]}\")\n",
        "print(f\"numb of features:{X.shape[1]}\")\n",
        "print(f\"numb of classes:{cla.shape[0]}\")"
      ],
      "execution_count": 3,
      "outputs": [
        {
          "output_type": "stream",
          "name": "stdout",
          "text": [
            "numb of samples:178\n",
            "numb of features:13\n",
            "numb of classes:3\n"
          ]
        }
      ]
    },
    {
      "cell_type": "markdown",
      "metadata": {
        "id": "bWfR45ftbRU4"
      },
      "source": [
        "## Perform PCA for Visualization\n",
        "\n",
        "Before performing PCA, you should scale the data matrix to remove the mean and normalize the variance of the different components.  For this purpose, create a `StandardScaling` object `scaling`.  Then `fit` the scaling with the entire data `X`.  Transform the data and let `Xs` be the scaled data."
      ]
    },
    {
      "cell_type": "code",
      "metadata": {
        "id": "b7t9Af69bRU4"
      },
      "source": [
        "from sklearn.preprocessing import StandardScaler\n",
        "\n",
        "# TODO 3:\n",
        "scaling = StandardScaler()\n",
        "scaling.fit(X)\n",
        "Xs = scaling.transform(X)"
      ],
      "execution_count": 4,
      "outputs": []
    },
    {
      "cell_type": "markdown",
      "metadata": {
        "id": "0eL9_WelbRU5"
      },
      "source": [
        "Now, fit a PCA on the scaled data matrix `Xs`.  You can use the `sklearn` `PCA` method.  In order that we can visualize the results set `n_components=2`.  Select `svd_solver='randomized'` and `whiten=True`.  Use the the `pca.transform` method to find, `Z`, the coefficients of `Xs` in the PCA basis."
      ]
    },
    {
      "cell_type": "code",
      "metadata": {
        "id": "7K9VfT1IbRU5"
      },
      "source": [
        "from sklearn.decomposition import PCA\n",
        "\n",
        "# TODO 4:\n",
        "ncomp = 2\n",
        "pca = PCA(n_components=ncomp,svd_solver=\"auto\",whiten=True)\n",
        "pca.fit(Xs)\n",
        "Z = pca.transform(Xs)\n",
        "\n",
        "\n",
        "# Construct the PCA object"
      ],
      "execution_count": 5,
      "outputs": []
    },
    {
      "cell_type": "markdown",
      "metadata": {
        "id": "o9mwweAWbRU6"
      },
      "source": [
        "In the transformed basis, each data sample is represented by a two dimensional vector, `Z[i,0], Z[i,1]`.  Plot a scatter plot of the transformed data.  Use different marker colors for the different classes.  If you did everything, you should see that the classes are quite well separated with even two PCs."
      ]
    },
    {
      "cell_type": "code",
      "metadata": {
        "id": "_r9YYdVpbRU6",
        "colab": {
          "base_uri": "https://localhost:8080/",
          "height": 282
        },
        "outputId": "a5a867ff-33ba-4340-f2ec-41aab34e7da5"
      },
      "source": [
        "# TODO 5:\n",
        "index=np.where(y==0)\n",
        "plt.scatter(Z[index][:,0],Z[index][:,1],c='r')\n",
        "index=np.where(y==1)\n",
        "plt.scatter(Z[index][:,0],Z[index][:,1],c='g')\n",
        "index=np.where(y==2)\n",
        "plt.scatter(Z[index][:,0],Z[index][:,1],c='b')\n",
        "plt.legend([\"class_0\",\"class_1\",\"class_2\"])"
      ],
      "execution_count": 6,
      "outputs": [
        {
          "output_type": "execute_result",
          "data": {
            "text/plain": [
              "<matplotlib.legend.Legend at 0x7f2caccfcc90>"
            ]
          },
          "metadata": {},
          "execution_count": 6
        },
        {
          "output_type": "display_data",
          "data": {
            "image/png": "[encoded data removed]",
            "text/plain": [
              "<Figure size 432x288 with 1 Axes>"
            ]
          },
          "metadata": {
            "needs_background": "light"
          }
        }
      ]
    },
    {
      "cell_type": "markdown",
      "metadata": {
        "id": "zrkSwJisbRU6"
      },
      "source": [
        "Now, refit the scaled data `Xs` using `n_components=nfeatures` where `nfeatures` is the number of features.  This is the maximum number of PCs.  Get the singular values from `pca.singular_values_` and plot the portion of variation as a function of the number of PCs.   The PoV for using `n` PCs is:\n",
        "\n",
        "    PoV[n]  = \\sum_{i=0}^{n-1}  s[i]**2 / \\sum_{i=0}^{d-1}  s[i]**2\n",
        "    \n",
        "where `s[i]` is the `i`-th singular value and `d` is the number of features.  You should see that the 4 PCs contains more than 70% of the variance."
      ]
    },
    {
      "cell_type": "code",
      "metadata": {
        "id": "L6mvcSmcbRU7",
        "colab": {
          "base_uri": "https://localhost:8080/",
          "height": 264
        },
        "outputId": "18ef987a-5ce2-42d7-a0e7-634b7e6df379"
      },
      "source": [
        "# TODO 6:\n",
        "# array([28.94203422, 21.08225141, 16.04371561, 12.78973645, 12.32374195, 10.68713954,  9.90368818])\n",
        "ncomp = 7\n",
        "pca = PCA(n_components=ncomp,svd_solver=\"auto\",whiten=True)\n",
        "pca.fit(Xs)\n",
        "sq=np.cumsum(pca.singular_values_**2)\n",
        "pov=sq/np.sum(pca.singular_values_**2)\n",
        "plt.plot(range(0,ncomp),pov)\n",
        "plt.grid()"
      ],
      "execution_count": 7,
      "outputs": [
        {
          "output_type": "display_data",
          "data": {
            "image/png": "[encoded data removed]",
            "text/plain": [
              "<Figure size 432x288 with 1 Axes>"
            ]
          },
          "metadata": {
            "needs_background": "light"
          }
        }
      ]
    },
    {
      "cell_type": "markdown",
      "metadata": {
        "id": "faeqcWo1bRU7"
      },
      "source": [
        "## Using PCA with Classification \n",
        "\n",
        "We will now use data scaling and PCA as a pre-processing step for logistic classification.  The number of PCs to use can be found with cross-validation.  Complete the code below which tries different number of PCs components to use and measures the test accuracy for each value."
      ]
    },
    {
      "cell_type": "code",
      "metadata": {
        "id": "R036EpNWbRU7",
        "colab": {
          "base_uri": "https://localhost:8080/",
          "height": 0
        },
        "outputId": "4cd4bb08-fea4-4813-a74c-a64be5e4728d"
      },
      "source": [
        "from sklearn.preprocessing import StandardScaler\n",
        "from sklearn.linear_model import LogisticRegression\n",
        "nfold = 5\n",
        "\n",
        "# Create a K-fold object\n",
        "kf = KFold(n_splits=nfold)\n",
        "kf.get_n_splits(X)\n",
        "\n",
        "# Number of PCs to try\n",
        "ncomp_test = np.arange(2,12)\n",
        "num_nc = len(ncomp_test)\n",
        "\n",
        "# Accuracy:  acc[icomp,ifold]  is test accuracy when using `ncomp = ncomp_test[icomp]` in fold `ifold`.\n",
        "acc = np.zeros((num_nc,nfold))\n",
        "\n",
        "\n",
        "# ==============\n",
        "# TODO 7:(combined all)\n",
        "\n",
        "# Loop over number of components to test\n",
        "for icomp, ncomp in enumerate(ncomp_test):\n",
        "    \n",
        "    # Look over the folds\n",
        "    for ifold, I in enumerate(kf.split(X)):\n",
        "        Itr, Its = I\n",
        "\n",
        "        # TODO:  Split data into training\n",
        "        Xtr, Xts, ytr, yts = X[Itr], X[Its], y[Itr], y[Its]\n",
        "\n",
        "        # TODO:  Create a scaling object and fit the scaling on the training data\n",
        "        scaler = StandardScaler()\n",
        "        scaler.fit(Xtr)\n",
        "        Xtr_trans = scaler.transform(Xtr)\n",
        "\n",
        "        # TODO:  Fit the PCA on the scaled training data\n",
        "        pca = PCA(n_components=ncomp,whiten=True,svd_solver=\"auto\")\n",
        "        pca.fit(Xtr_trans)\n",
        "        Ztr = pca.transform(Xtr_trans)\n",
        "\n",
        "        # TODO:  Train a classifier on the transformed training data\n",
        "        # Use a logistic regression classifier\n",
        "        logreg = LogisticRegression(multi_class='auto', solver='lbfgs')\n",
        "\n",
        "        # TODO:  Transform the test data through data scaler and PCA\n",
        "        Xts_trans = scaler.transform(Xts)\n",
        "        Zts = pca.transform(Xts_trans)\n",
        "\n",
        "        # TODO:  Predict the labels the test data\n",
        "        logreg.fit(Ztr,ytr)\n",
        "        yhat = logreg.predict(Zts)\n",
        "\n",
        "        # TODO:  Measure the accuracy \n",
        "        acc[icomp, ifold] = np.mean(yhat==yts)\n",
        "\n",
        "        print(f\"ncomp={ncomp} ifold={ifold} acc={acc[icomp, ifold]}\")\n"
      ],
      "execution_count": 8,
      "outputs": [
        {
          "output_type": "stream",
          "name": "stdout",
          "text": [
            "ncomp=2 ifold=0 acc=0.9166666666666666\n",
            "ncomp=2 ifold=1 acc=0.9444444444444444\n",
            "ncomp=2 ifold=2 acc=0.8888888888888888\n",
            "ncomp=2 ifold=3 acc=0.9142857142857143\n",
            "ncomp=2 ifold=4 acc=0.9714285714285714\n",
            "ncomp=3 ifold=0 acc=0.8611111111111112\n",
            "ncomp=3 ifold=1 acc=0.9444444444444444\n",
            "ncomp=3 ifold=2 acc=0.8888888888888888\n",
            "ncomp=3 ifold=3 acc=0.9428571428571428\n",
            "ncomp=3 ifold=4 acc=0.9714285714285714\n",
            "ncomp=4 ifold=0 acc=0.8611111111111112\n",
            "ncomp=4 ifold=1 acc=0.9722222222222222\n",
            "ncomp=4 ifold=2 acc=0.8888888888888888\n",
            "ncomp=4 ifold=3 acc=0.9714285714285714\n",
            "ncomp=4 ifold=4 acc=0.9714285714285714\n",
            "ncomp=5 ifold=0 acc=0.8611111111111112\n",
            "ncomp=5 ifold=1 acc=0.8888888888888888\n",
            "ncomp=5 ifold=2 acc=0.9166666666666666\n",
            "ncomp=5 ifold=3 acc=0.9714285714285714\n",
            "ncomp=5 ifold=4 acc=0.9428571428571428\n",
            "ncomp=6 ifold=0 acc=0.9444444444444444\n",
            "ncomp=6 ifold=1 acc=0.9166666666666666\n",
            "ncomp=6 ifold=2 acc=0.9166666666666666\n",
            "ncomp=6 ifold=3 acc=0.9428571428571428\n",
            "ncomp=6 ifold=4 acc=0.9428571428571428\n",
            "ncomp=7 ifold=0 acc=0.9722222222222222\n",
            "ncomp=7 ifold=1 acc=0.9444444444444444\n",
            "ncomp=7 ifold=2 acc=0.9166666666666666\n",
            "ncomp=7 ifold=3 acc=0.9428571428571428\n",
            "ncomp=7 ifold=4 acc=0.9714285714285714\n",
            "ncomp=8 ifold=0 acc=0.9722222222222222\n",
            "ncomp=8 ifold=1 acc=0.9444444444444444\n",
            "ncomp=8 ifold=2 acc=0.9166666666666666\n",
            "ncomp=8 ifold=3 acc=0.9428571428571428\n",
            "ncomp=8 ifold=4 acc=0.9714285714285714\n",
            "ncomp=9 ifold=0 acc=0.9444444444444444\n",
            "ncomp=9 ifold=1 acc=0.9166666666666666\n",
            "ncomp=9 ifold=2 acc=0.9444444444444444\n",
            "ncomp=9 ifold=3 acc=0.9428571428571428\n",
            "ncomp=9 ifold=4 acc=1.0\n",
            "ncomp=10 ifold=0 acc=0.9444444444444444\n",
            "ncomp=10 ifold=1 acc=0.8888888888888888\n",
            "ncomp=10 ifold=2 acc=0.9166666666666666\n",
            "ncomp=10 ifold=3 acc=0.9714285714285714\n",
            "ncomp=10 ifold=4 acc=1.0\n",
            "ncomp=11 ifold=0 acc=0.9722222222222222\n",
            "ncomp=11 ifold=1 acc=0.9166666666666666\n",
            "ncomp=11 ifold=2 acc=0.9166666666666666\n",
            "ncomp=11 ifold=3 acc=0.9714285714285714\n",
            "ncomp=11 ifold=4 acc=1.0\n"
          ]
        }
      ]
    },
    {
      "cell_type": "markdown",
      "metadata": {
        "id": "Y-UOEOxNbRU7"
      },
      "source": [
        "Use the `plt.errorbar` function to plot the mean accuracy with error bars corresponding to the standard error of the accuracy as a function of the number of components.  Find the optimal number of PCs to use according to the normal rule and one SE rule.  If you did it correctly, you should get an accuracy of around 96%."
      ]
    },
    {
      "cell_type": "code",
      "metadata": {
        "id": "ViJ4uZSNbRU8",
        "colab": {
          "base_uri": "https://localhost:8080/",
          "height": 313
        },
        "outputId": "7efde4ee-c49b-4dc1-8410-265a8df8feb3"
      },
      "source": [
        "# TODO 8: (Combined all)\n",
        "acc_mean = np.mean(acc,axis=1)\n",
        "acc_se  = np.std(acc,axis=1)*np.sqrt(nfold)/np.sqrt(nfold-1)\n",
        "plt.errorbar(ncomp_test,acc_mean,acc_se,fmt='bo:')\n",
        "plt.xlabel(\"number of PCs\")\n",
        "plt.ylabel(\"accuracy\")\n",
        "\n",
        "# TODO:  Optimal order with the normal rule\n",
        "iopt_norm = np.argmax(acc_mean)\n",
        "print(f\" optimal number of PCs with the normal rule is {ncomp_test[iopt_norm]} with the largest mean accuracy {acc_mean[iopt_norm]}\")\n",
        "\n",
        "# TODO:  Optimal order with one SE rule\n",
        "acc_tgt = acc_mean[iopt_norm] - acc_se[iopt_norm]\n",
        "I = np.where(acc_mean <= acc_tgt)[0]\n",
        "iopt_onese = I[0]\n",
        "print(f\" optimal number of PCs with one SE rule is {ncomp_test[iopt_onese]} with mean accuracy {acc_mean[iopt_onese]}\")"
      ],
      "execution_count": 9,
      "outputs": [
        {
          "output_type": "stream",
          "name": "stdout",
          "text": [
            " optimal number of PCs with the normal rule is 11 with the largest mean accuracy 0.9553968253968254\n",
            " optimal number of PCs with one SE rule is 5 with mean accuracy 0.9161904761904761\n"
          ]
        },
        {
          "output_type": "display_data",
          "data": {
            "image/png": "[encoded data removed]",
            "text/plain": [
              "<Figure size 432x288 with 1 Axes>"
            ]
          },
          "metadata": {
            "needs_background": "light"
          }
        }
      ]
    },
    {
      "cell_type": "markdown",
      "metadata": {
        "id": "ilmEEgh6bRU8"
      },
      "source": [
        "## Hyper-Parameter Optimization with GridCV.\n",
        "\n",
        "We will now try a more complex classifier -- a support vector classifier with a radial basis function.  When we use such a classifer, there will be a number of parameters to tune.  When the number of parameters to tune becomes large, writing a loop over multiple parameters as we did above becomes cumbersome.  The `sklearn` package has a very nice routine, `GridSearchCV` to perform this sort of parameter search.  \n",
        "\n",
        "Before, we do this we need to create an estimator `Pipeline`.  An estimator pipeline is a sequence of transformations followed by an estimator that will operate on the transformed data.  Create the following pipeline:\n",
        "\n",
        "*  Create a `StandardScaler()` object called `scaler` for the first transformation\n",
        "*  Create a `PCA()` object called `pca` for the second transformation\n",
        "*  Create a `SVC()` object called `svc` for the final SVM classifier.  Set the parameter `kernel='rbf'`.\n",
        "\n",
        "Once you have the three steps defined, you can create the pipeline with the command:\n",
        "    \n",
        "    pipe = Pipeline(steps=[('scaler', scaler), ('pca', pca), ('svc', svc)])"
      ]
    },
    {
      "cell_type": "code",
      "metadata": {
        "id": "3Eg1gmCLbRU8"
      },
      "source": [
        "from sklearn.pipeline import Pipeline\n",
        "from sklearn.model_selection import GridSearchCV\n",
        "from sklearn.svm import SVC\n",
        "\n",
        "# TODO 9:\n",
        "scaler = StandardScaler()\n",
        "pca = PCA()\n",
        "svc = SVC()\n",
        "pipe = Pipeline(steps=[('scaler', scaler), ('pca', pca), ('svc', svc)])"
      ],
      "execution_count": 10,
      "outputs": []
    },
    {
      "cell_type": "markdown",
      "metadata": {
        "id": "EFWK3GFjbRU8"
      },
      "source": [
        "We next define all the parameters that we want to search over.  Define the following arrays:\n",
        "\n",
        "*  `ncomp_test`:  values from 3 to 10 representing number of PCs to test\n",
        "*  `C_test`:  values of `C` in the SVC to test.  Use `10^{-2}, 10^{-1}, ... ,10^{3}` \n",
        "*  `gam_test`:  values of `gamma` in the SVC to test.  Use `10^{-3}, 10^{-2}, ... ,10^{1}` "
      ]
    },
    {
      "cell_type": "code",
      "metadata": {
        "id": "nrei_HvEbRU8"
      },
      "source": [
        "# TODO 10:\n",
        "ncomp_test = np.array(range(3,11))\n",
        "c_test = 10.0**np.array(range(-1,4))\n",
        "gam_test = 10.0**np.array(range(-3,2))"
      ],
      "execution_count": 11,
      "outputs": []
    },
    {
      "cell_type": "markdown",
      "metadata": {
        "id": "x3qYgt9UbRU8"
      },
      "source": [
        "Next, we create a dictionary `params` of the form:\n",
        "\n",
        "    params =  {'pca__n_components': ncomp_test, 'svc__C' : c_test, ...}\n",
        "    \n",
        "Each key in the dictionary is the of the form `estimator__param` and the value is the values to be tested."
      ]
    },
    {
      "cell_type": "code",
      "metadata": {
        "id": "3fta7Dh6bRU9"
      },
      "source": [
        "# TODO 11:\n",
        "params = {'pca__n_components': ncomp_test, 'svc__C' : c_test, 'svc__gamma': gam_test}"
      ],
      "execution_count": 19,
      "outputs": []
    },
    {
      "cell_type": "markdown",
      "metadata": {
        "id": "VRtSGjdvbRU9"
      },
      "source": [
        "Finally, an object `estimator = GridSearchCV(...)` from  `pipe` and `params`.  Set `cv=5`, `train_score=True` and `iid=False`.  Fit the estimator from the data `X,y`.  Then the estimator will perform the cross-validation over all the parameters.  This may take a minute since we are search over so many parameters."
      ]
    },
    {
      "cell_type": "code",
      "metadata": {
        "id": "LdsGMMVjbRU9",
        "colab": {
          "base_uri": "https://localhost:8080/",
          "height": 0
        },
        "outputId": "bf15fb3b-0b70-435b-b548-7184ac833070"
      },
      "source": [
        "# TODO 12:\n",
        "estimator = GridSearchCV(estimator=pipe,param_grid=params,cv=5,return_train_score=True,iid=False)\n",
        "estimator.fit(X,y)"
      ],
      "execution_count": 20,
      "outputs": [
        {
          "output_type": "stream",
          "name": "stderr",
          "text": [
            "/usr/local/lib/python3.7/dist-packages/sklearn/model_selection/_search.py:849: FutureWarning: The parameter 'iid' is deprecated in 0.22 and will be removed in 0.24.\n",
            "  \"removed in 0.24.\", FutureWarning\n"
          ]
        },
        {
          "output_type": "execute_result",
          "data": {
            "text/plain": [
              "GridSearchCV(cv=5,\n",
              "             estimator=Pipeline(steps=[('scaler', StandardScaler()),\n",
              "                                       ('pca', PCA()), ('svc', SVC())]),\n",
              "             iid=False,\n",
              "             param_grid={'pca__n_components': array([ 3,  4,  5,  6,  7,  8,  9, 10]),\n",
              "                         'svc__C': array([1.e-01, 1.e+00, 1.e+01, 1.e+02, 1.e+03]),\n",
              "                         'svc__gamma': array([1.e-03, 1.e-02, 1.e-01, 1.e+00, 1.e+01])},\n",
              "             return_train_score=True)"
            ]
          },
          "metadata": {},
          "execution_count": 20
        }
      ]
    },
    {
      "cell_type": "markdown",
      "metadata": {
        "id": "LHBQIaEQbRU9"
      },
      "source": [
        "Print the best test score and best parameters.  They are fields in `estimator`.  If you did it correctly, it should be a little higher than the logistic regression (about 0.97 to 0.98 accuracy)."
      ]
    },
    {
      "cell_type": "code",
      "metadata": {
        "id": "R6VoYWPVbRU9",
        "colab": {
          "base_uri": "https://localhost:8080/",
          "height": 0
        },
        "outputId": "6e9b0e89-6546-487d-da7a-b3fdf67286b5"
      },
      "source": [
        "# TODO 13:\n",
        "estimator.best_params_"
      ],
      "execution_count": 21,
      "outputs": [
        {
          "output_type": "execute_result",
          "data": {
            "text/plain": [
              "{'pca__n_components': 5, 'svc__C': 1.0, 'svc__gamma': 0.1}"
            ]
          },
          "metadata": {},
          "execution_count": 21
        }
      ]
    },
    {
      "cell_type": "code",
      "metadata": {
        "colab": {
          "base_uri": "https://localhost:8080/",
          "height": 0
        },
        "id": "KfD4X-aiIWBN",
        "outputId": "a67657ea-02f0-457c-a0d4-5a99bc064fca"
      },
      "source": [
        "estimator.best_score_"
      ],
      "execution_count": 22,
      "outputs": [
        {
          "output_type": "execute_result",
          "data": {
            "text/plain": [
              "0.9777777777777779"
            ]
          },
          "metadata": {},
          "execution_count": 22
        }
      ]
    },
    {
      "cell_type": "markdown",
      "metadata": {
        "id": "YiJ5X_3tbRU9"
      },
      "source": [
        "Finally, you can get the test score for all the parameter choices from \n",
        "\n",
        "    test_score = estimator.cv_results_['mean_test_score']\n",
        "    \n",
        "Use the `imshow` command to plot the mean test score over `gamma` and `C` for the value `n_components=5`."
      ]
    },
    {
      "cell_type": "code",
      "metadata": {
        "id": "K0meGz1vbRU9"
      },
      "source": [
        "# TODO 14:"
      ],
      "execution_count": null,
      "outputs": []
    },
    {
      "cell_type": "code",
      "metadata": {
        "id": "z4j-2fNLbRU-"
      },
      "source": [
        "test_score = estimator.cv_results_['mean_test_score']"
      ],
      "execution_count": 44,
      "outputs": []
    },
    {
      "cell_type": "code",
      "metadata": {
        "colab": {
          "base_uri": "https://localhost:8080/",
          "height": 0
        },
        "id": "SAcWVw_sUF6v",
        "outputId": "53f9b532-c812-432c-b00f-7377a5a2ddcf"
      },
      "source": [
        "len(ncomp_test),len(c_test),len(gam_test)\n",
        "ts_5=test_score[25*2:25*3]\n",
        "len(ts_5)"
      ],
      "execution_count": 40,
      "outputs": [
        {
          "output_type": "execute_result",
          "data": {
            "text/plain": [
              "25"
            ]
          },
          "metadata": {},
          "execution_count": 40
        }
      ]
    },
    {
      "cell_type": "code",
      "metadata": {
        "id": "Ea2m1dEtbRU-",
        "colab": {
          "base_uri": "https://localhost:8080/",
          "height": 296
        },
        "outputId": "69ce4069-8616-454b-bb5f-fb64585b396c"
      },
      "source": [
        "plt.imshow(np.reshape(ts_5,(5,5),order='c'))\n",
        "plt.xlabel(\"gamma\")\n",
        "plt.ylabel(\"C\")"
      ],
      "execution_count": 43,
      "outputs": [
        {
          "output_type": "execute_result",
          "data": {
            "text/plain": [
              "Text(0, 0.5, 'C')"
            ]
          },
          "metadata": {},
          "execution_count": 43
        },
        {
          "output_type": "display_data",
          "data": {
            "image/png": "[encoded data removed]",
            "text/plain": [
              "<Figure size 432x288 with 1 Axes>"
            ]
          },
          "metadata": {
            "needs_background": "light"
          }
        }
      ]
    }
  ]
}